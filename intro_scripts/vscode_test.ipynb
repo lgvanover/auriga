{
 "cells": [
  {
   "cell_type": "code",
   "execution_count": null,
   "metadata": {},
   "outputs": [],
   "source": []
  }
 ],
 "metadata": {
  "kernelspec": {
   "display_name": "Python 3.6.12 ('pythonenv')",
   "language": "python",
   "name": "python3"
  },
  "language_info": {
   "name": "python",
   "version": "3.6.12"
  },
  "orig_nbformat": 4,
  "vscode": {
   "interpreter": {
    "hash": "29e6c696b763e5f8e6679d04c6d740a02083c1ec4a7adf22e07158884d4740ac"
   }
  }
 },
 "nbformat": 4,
 "nbformat_minor": 2
}
