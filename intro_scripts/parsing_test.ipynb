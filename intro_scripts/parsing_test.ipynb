{
 "cells": [
  {
   "cell_type": "code",
   "execution_count": 21,
   "metadata": {},
   "outputs": [],
   "source": [
    "# from halo_testing import *\n",
    "from foo import *"
   ]
  },
  {
   "cell_type": "code",
   "execution_count": 22,
   "metadata": {},
   "outputs": [
    {
     "name": "stdout",
     "output_type": "stream",
     "text": [
      "3 6\n",
      "There are 728 trees in file /project2/kravtsov/Auriga/level3_MHD/mergertrees/Au-6/trees_sf1_063.0.hdf5\n",
      "Loading desc (Descendant) for blockname /Tree0.\n",
      "Loading fnum (FileNr) for blockname /Tree0.\n",
      "Loading fhfg (FirstHaloInFOFGroup) for blockname /Tree0.\n",
      "Loading fpin (FirstProgenitor) for blockname /Tree0.\n",
      "Loading fmc2 (Group_M_Crit200) for blockname /Tree0.\n",
      "Loading fmm2 (Group_M_Mean200) for blockname /Tree0.\n",
      "Loading fmt2 (Group_M_TopHat200) for blockname /Tree0.\n",
      "Loading frc2 (Group_R_Crit200) for blockname /Tree0.\n",
      "Loading nhfg (NextHaloInFOFGroup) for blockname /Tree0.\n",
      "Loading npin (NextProgenitor) for blockname /Tree0.\n",
      "Loading snum (SnapNum) for blockname /Tree0.\n",
      "Loading sbhm (SubhaloBHMass) for blockname /Tree0.\n",
      "Loading sbhd (SubhaloBHMdot) for blockname /Tree0.\n",
      "Loading sgmt (SubhaloGasMetallicity) for blockname /Tree0.\n",
      "Loading sgmf (SubhaloGasMetallicitySfr) for blockname /Tree0.\n",
      "Loading sgnr (SubhaloGrNr) for blockname /Tree0.\n",
      "Loading shmt (SubhaloHalfmassRadType) for blockname /Tree0.\n",
      "Key SubhaloIDMostBound not found in conversion table, skipping.\n",
      "Loading slen (SubhaloLen) for blockname /Tree0.\n",
      "Loading slty (SubhaloLenType) for blockname /Tree0.\n",
      "Loading smit (SubhaloMassInRadType) for blockname /Tree0.\n",
      "Loading smty (SubhaloMassType) for blockname /Tree0.\n",
      "Loading sbnr (SubhaloNumber) for blockname /Tree0.\n",
      "Loading soty (SubhaloOffsetType) for blockname /Tree0.\n",
      "Loading spos (SubhaloPos) for blockname /Tree0.\n",
      "Loading ssfr (SubhaloSFR) for blockname /Tree0.\n",
      "Loading ssfi (SubhaloSFRinRad) for blockname /Tree0.\n",
      "Loading sspi (SubhaloSpin) for blockname /Tree0.\n",
      "Loading ssmt (SubhaloStarMetallicity) for blockname /Tree0.\n",
      "Loading ssph (SubhaloStellarPhotometrics) for blockname /Tree0.\n",
      "Loading svmx (SubhaloVMax) for blockname /Tree0.\n",
      "Loading svel (SubhaloVel) for blockname /Tree0.\n",
      "Loading svdi (SubhaloVelDisp) for blockname /Tree0.\n"
     ]
    },
    {
     "name": "stderr",
     "output_type": "stream",
     "text": [
      "/home/lgvanover/.local/lib/python3.7/site-packages/gadget_snap.py:653: H5pyDeprecationWarning: Using astype() as a context manager is deprecated. Slice the returned object instead, like: ds.astype(np.int32)[:10]\n",
      "  with dset.astype('uint64'):\n",
      "/home/lgvanover/.local/lib/python3.7/site-packages/gadget_subfind.py:435: H5pyDeprecationWarning: Using astype() as a context manager is deprecated. Slice the returned object instead, like: ds.astype(np.int32)[:10]\n",
      "  with dset.astype('int64'):\n"
     ]
    },
    {
     "name": "stdout",
     "output_type": "stream",
     "text": [
      "galrad= 0.01\n",
      "Centering Subhaloes...\n",
      "sub pos before= [[17.45175552 16.50684357 16.59200478]\n",
      " [17.42291832 16.45394325 16.67990303]\n",
      " [17.46174049 16.46312904 16.61497688]\n",
      " ...\n",
      " [17.7387352  17.22132874 15.87205124]\n",
      " [18.25252914 16.85057831 16.40577698]\n",
      " [18.19170952 17.01442528 16.34984398]]\n",
      "sub pos after= [[ 0.          0.          0.        ]\n",
      " [-0.0288372  -0.05290031  0.08789825]\n",
      " [ 0.00998497 -0.04371452  0.02297211]\n",
      " ...\n",
      " [ 0.28697968  0.71448517 -0.71995354]\n",
      " [ 0.80077362  0.34373474 -0.1862278 ]\n",
      " [ 0.73995399  0.50758171 -0.2421608 ]]\n",
      "!!! agesel\n",
      "Found 67772 stars.\n",
      "Rotated pos.\n",
      "Rotated vel.\n",
      "Rotating subhaloes...\n",
      "sub values= [[17.453493 16.505638 16.591547]\n",
      " [17.342949 16.640953 16.565811]\n",
      " [17.544115 16.36401  16.661049]\n",
      " ...\n",
      " [17.738924 17.221352 15.872146]\n",
      " [18.25248  16.8508   16.405834]\n",
      " [18.191605 17.014591 16.349834]]\n",
      "sub values after= [[27.517921   2.6073258  9.397116 ]\n",
      " [27.527355   2.431153   9.4052925]\n",
      " [27.532925   2.781606   9.347089 ]\n",
      " ...\n",
      " [27.41043    2.1700897 10.350283 ]\n",
      " [27.823938   2.8696408 10.190558 ]\n",
      " [27.841154   2.7017176 10.262493 ]]\n",
      "Rotating subhaloes...\n",
      "sub values= [[17.451756 16.506844 16.592005]\n",
      " [17.362606 16.615055 16.535639]\n",
      " [17.544172 16.371138 16.669598]\n",
      " ...\n",
      " [17.738735 17.221329 15.872051]\n",
      " [18.25253  16.850578 16.405777]\n",
      " [18.19171  17.014425 16.349844]]\n",
      "sub values after= [[27.518286   2.6053572  9.396294 ]\n",
      " [27.497305   2.4582088  9.423529 ]\n",
      " [27.543293   2.7778957  9.345474 ]\n",
      " ...\n",
      " [27.41028    2.1699631 10.350205 ]\n",
      " [27.8238     2.8698242 10.190518 ]\n",
      " [27.841112   2.701909  10.262478 ]]\n",
      "Rotating subhaloes...\n",
      "sub values= [[ 36.76996      0.21949676  -0.9640078 ]\n",
      " [ 40.326637   -15.8514805   -4.971822  ]\n",
      " [ 30.122282     7.7605524  -11.089231  ]\n",
      " ...\n",
      " [ 17.43221    -12.913694    -2.1601963 ]\n",
      " [ 26.88324    -27.814857    11.839669  ]\n",
      " [ 24.992462   -22.357306     8.237446  ]]\n",
      "sub values after= [[12.166046  24.553244  24.538393 ]\n",
      " [ 2.1296084 37.86662   21.53625  ]\n",
      " [ 5.657767  13.007419  29.821901 ]\n",
      " ...\n",
      " [-2.1472454 20.72448    6.418508 ]\n",
      " [ 4.683882  40.080536  -2.8573503]\n",
      " [ 3.9340951 34.298973   0.6565193]]\n",
      "Rotating subhaloes...\n",
      "sub values= [[17.453478 16.505964 16.591337]\n",
      " [17.42447  16.450844 16.674866]\n",
      " [17.461782 16.463099 16.614931]\n",
      " ...\n",
      " [17.738924 17.221352 15.872146]\n",
      " [18.252485 16.850798 16.40583 ]\n",
      " [18.191607 17.014587 16.349827]]\n",
      "sub values after= [[27.517916   2.607047   9.397387 ]\n",
      " [27.545958   2.6404948  9.302774 ]\n",
      " [27.51781    2.6472747  9.3683195]\n",
      " ...\n",
      " [27.41043    2.1700897 10.350283 ]\n",
      " [27.823936   2.8696454 10.190563 ]\n",
      " [27.841146   2.70172   10.262498 ]]\n",
      "Rotating subhaloes...\n",
      "sub values= [[ 0.          0.          0.        ]\n",
      " [-0.0288372  -0.05290031  0.08789825]\n",
      " [ 0.00998497 -0.04371452  0.02297211]\n",
      " ...\n",
      " [ 0.28697968  0.71448517 -0.71995354]\n",
      " [ 0.80077362  0.34373474 -0.1862278 ]\n",
      " [ 0.73995399  0.50758171 -0.2421608 ]]\n",
      "sub values after= [[ 0.00000000e+00  0.00000000e+00  0.00000000e+00]\n",
      " [ 3.26733296e-02  3.26702671e-02 -9.60272769e-02]\n",
      " [-4.38030087e-04  4.18739661e-02 -2.80134961e-02]\n",
      " ...\n",
      " [-1.08006358e-01 -4.35393977e-01  9.53911001e-01]\n",
      " [ 3.05513042e-01  2.64466761e-01  7.94224068e-01]\n",
      " [ 3.22828041e-01  9.65516742e-02  8.66182884e-01]]\n",
      "Rotating subhaloes...\n",
      "sub values= [[ 2.4364865e-01  1.5550834e-01  3.1097731e-01]\n",
      " [ 2.6156337e-03 -4.8674722e-03  9.8422151e-03]\n",
      " [ 3.4850521e-03  8.4138277e-04  1.1845429e-03]\n",
      " ...\n",
      " [ 7.6403639e-06 -2.0069852e-04 -1.1590509e-04]\n",
      " [ 1.0431085e-04 -1.5062906e-05 -6.9449423e-05]\n",
      " [ 7.3655217e-05 -7.4970390e-05 -1.7512017e-05]]\n",
      "sub values after= [[ 4.09022123e-01  1.03017114e-01  4.84022312e-02]\n",
      " [ 6.22865045e-03  6.85160141e-03 -6.45464892e-03]\n",
      " [ 2.57495535e-03  1.94256031e-03  1.96283427e-03]\n",
      " ...\n",
      " [-1.90168968e-04  1.30794127e-04 -2.23812203e-05]\n",
      " [-2.60948618e-05  7.01951722e-05  1.01600010e-04]\n",
      " [-2.59939789e-05  1.00886733e-04  2.23271545e-05]]\n",
      "Rotating subhaloes...\n",
      "sub values= [[ -72.2382       0.6588708   -2.4777217]\n",
      " [  -5.6068845   59.558697   -36.017326 ]\n",
      " [   9.006733   -62.482754   -39.141663 ]\n",
      " ...\n",
      " [-129.38365    -37.725887    -7.424874 ]\n",
      " [-101.008      -82.463715    34.631985 ]\n",
      " [-106.6937     -66.08813     23.796389 ]]\n",
      "sub values after= [[ -26.803978    -49.72431     -45.099556  ]\n",
      " [  -0.34286714  -52.40221      46.14991   ]\n",
      " [ -59.30904      44.71006      -0.8568274 ]\n",
      " ...\n",
      " [ -70.00224     -61.571888    -97.60681   ]\n",
      " [ -49.47309      -3.4545538  -125.470055  ]\n",
      " [ -51.74848     -20.81504    -114.91859   ]]\n"
     ]
    }
   ],
   "source": [
    "g = load_halo(6, 3)"
   ]
  },
  {
   "cell_type": "code",
   "execution_count": 2,
   "metadata": {},
   "outputs": [
    {
     "name": "stdout",
     "output_type": "stream",
     "text": [
      "/cds/kravtsov/Simulations/Auriga/level4_MHD/halo_24/output/\n",
      "hi\n",
      "/cds/kravtsov/Simulations/Auriga/level4_MHD/mergertrees/Au-24/trees_sf1_127\n",
      "There are 1540 trees in file /cds/kravtsov/Simulations/Auriga/level4_MHD/mergertrees/Au-24/trees_sf1_127.0.hdf5\n",
      "Loading desc (Descendant) for blockname /Tree0.\n",
      "Loading fnum (FileNr) for blockname /Tree0.\n",
      "Loading fhfg (FirstHaloInFOFGroup) for blockname /Tree0.\n",
      "Loading fpin (FirstProgenitor) for blockname /Tree0.\n",
      "Loading fmc2 (Group_M_Crit200) for blockname /Tree0.\n",
      "Loading fmm2 (Group_M_Mean200) for blockname /Tree0.\n",
      "Loading fmt2 (Group_M_TopHat200) for blockname /Tree0.\n",
      "Loading frc2 (Group_R_Crit200) for blockname /Tree0.\n",
      "Loading nhfg (NextHaloInFOFGroup) for blockname /Tree0.\n",
      "Loading npin (NextProgenitor) for blockname /Tree0.\n",
      "Loading snum (SnapNum) for blockname /Tree0.\n",
      "Loading sbhm (SubhaloBHMass) for blockname /Tree0.\n",
      "Loading sbhd (SubhaloBHMdot) for blockname /Tree0.\n",
      "Loading sgmt (SubhaloGasMetallicity) for blockname /Tree0.\n",
      "Loading sgmf (SubhaloGasMetallicitySfr) for blockname /Tree0.\n",
      "Loading sgnr (SubhaloGrNr) for blockname /Tree0.\n",
      "Loading shmt (SubhaloHalfmassRadType) for blockname /Tree0.\n",
      "Key SubhaloIDMostBound not found in conversion table, skipping.\n",
      "Loading slen (SubhaloLen) for blockname /Tree0.\n",
      "Loading slty (SubhaloLenType) for blockname /Tree0.\n",
      "Loading smit (SubhaloMassInRadType) for blockname /Tree0.\n",
      "Loading smty (SubhaloMassType) for blockname /Tree0.\n",
      "Loading sbnr (SubhaloNumber) for blockname /Tree0.\n",
      "Loading soty (SubhaloOffsetType) for blockname /Tree0.\n",
      "Loading spos (SubhaloPos) for blockname /Tree0.\n",
      "Loading ssfr (SubhaloSFR) for blockname /Tree0.\n",
      "Loading ssfi (SubhaloSFRinRad) for blockname /Tree0.\n",
      "Loading sspi (SubhaloSpin) for blockname /Tree0.\n",
      "Loading ssmt (SubhaloStarMetallicity) for blockname /Tree0.\n",
      "Loading ssph (SubhaloStellarPhotometrics) for blockname /Tree0.\n",
      "Loading svmx (SubhaloVMax) for blockname /Tree0.\n",
      "Loading svel (SubhaloVel) for blockname /Tree0.\n",
      "Loading svdi (SubhaloVelDisp) for blockname /Tree0.\n"
     ]
    },
    {
     "name": "stderr",
     "output_type": "stream",
     "text": [
      "/home/lgvanover/.local/lib/python3.7/site-packages/gadget_snap.py:653: H5pyDeprecationWarning: Using astype() as a context manager is deprecated. Slice the returned object instead, like: ds.astype(np.int32)[:10]\n",
      "  with dset.astype('uint64'):\n",
      "/home/lgvanover/.local/lib/python3.7/site-packages/gadget_subfind.py:435: H5pyDeprecationWarning: Using astype() as a context manager is deprecated. Slice the returned object instead, like: ds.astype(np.int32)[:10]\n",
      "  with dset.astype('int64'):\n"
     ]
    },
    {
     "name": "stdout",
     "output_type": "stream",
     "text": [
      "galrad= 0.02408556640148163\n",
      "Centering Subhaloes...\n",
      "sub pos before= [[50.79359055 48.93403625 55.03272247]\n",
      " [50.45109558 48.89851379 55.60354996]\n",
      " [50.60640717 49.01777649 55.04764938]\n",
      " ...\n",
      " [48.22639084 46.81706238 52.15441895]\n",
      " [48.37526321 47.7786293  51.83067322]\n",
      " [48.61117172 47.56481171 51.97818375]]\n",
      "sub pos after= [[ 0.          0.          0.        ]\n",
      " [-0.34249496 -0.03552246  0.57082748]\n",
      " [-0.18718338  0.08374023  0.01492691]\n",
      " ...\n",
      " [-2.56719971 -2.11697388 -2.87830353]\n",
      " [-2.41832733 -1.15540695 -3.20204926]\n",
      " [-2.18241882 -1.36922455 -3.05453873]]\n",
      "!!! agesel\n",
      "Found 857 stars.\n",
      "Rotated pos.\n",
      "Rotated vel.\n",
      "Rotating subhaloes...\n",
      "sub values= [[50.71966  48.92697  55.15064 ]\n",
      " [50.846367 49.66736  58.297184]\n",
      " [51.7898   49.28032  58.271164]\n",
      " ...\n",
      " [48.226307 46.81643  52.155113]\n",
      " [48.37558  47.778194 51.83086 ]\n",
      " [48.609806 47.567024 51.978252]]\n",
      "sub values after= [[ 88.86868    -8.764387   -5.785168 ]\n",
      " [ 91.01539   -10.761217   -7.1523986]\n",
      " [ 91.37628    -9.929051   -7.619079 ]\n",
      " ...\n",
      " [ 84.520325   -8.246437   -5.101161 ]\n",
      " [ 84.996346   -8.2115755  -4.1930842]\n",
      " [ 85.100334   -8.064606   -4.491021 ]]\n",
      "Rotating subhaloes...\n",
      "sub values= [[50.79359  48.934036 55.032722]\n",
      " [50.841927 49.668617 58.297276]\n",
      " [51.788948 49.27594  58.271435]\n",
      " ...\n",
      " [48.22639  46.817062 52.15442 ]\n",
      " [48.375263 47.77863  51.830673]\n",
      " [48.61117  47.56481  51.978184]]\n",
      "sub values after= [[ 88.857895   -8.64037    -5.7225356]\n",
      " [ 91.01334   -10.764956   -7.150615 ]\n",
      " [ 91.373375   -9.928617   -7.6224484]\n",
      " ...\n",
      " [ 84.52038    -8.246139   -5.100268 ]\n",
      " [ 84.99629    -8.2118225  -4.192574 ]\n",
      " [ 85.09989    -8.062915   -4.4929495]]\n",
      "Rotating subhaloes...\n",
      "sub values= [[ 28.255926  30.835302 240.93712 ]\n",
      " [ -4.937017 -54.343723 364.94104 ]\n",
      " [  9.05532   34.47767  316.8458  ]\n",
      " ...\n",
      " [ 44.328323  10.682493 183.22571 ]\n",
      " [ 53.827957  34.665432 168.97084 ]\n",
      " [ 50.03962   30.140202 182.48167 ]]\n",
      "sub values after= [[ 161.28966  -131.69789  -128.22333 ]\n",
      " [ 156.2486   -206.78934  -262.6483  ]\n",
      " [ 190.86687  -192.55258  -167.79543 ]\n",
      " ...\n",
      " [ 129.77652   -79.42511  -111.80557 ]\n",
      " [ 142.07742   -70.531235  -86.5427  ]\n",
      " [ 144.14377   -80.18227   -97.49531 ]]\n",
      "Rotating subhaloes...\n",
      "sub values= [[50.78019  48.932426 55.054436]\n",
      " [50.449963 48.89636  55.604046]\n",
      " [50.606674 49.017616 55.04735 ]\n",
      " ...\n",
      " [48.226166 46.8166   52.154915]\n",
      " [48.37568  47.778263 51.830788]\n",
      " [48.609745 47.567005 51.97842 ]]\n",
      "sub values after= [[88.85984   -8.662963  -5.734347 ]\n",
      " [88.91739   -9.22936   -6.0315084]\n",
      " [88.795296  -8.81286   -5.6305237]\n",
      " ...\n",
      " [84.520226  -8.246473  -5.10088  ]\n",
      " [84.99641   -8.211475  -4.193006 ]\n",
      " [85.10037   -8.064747  -4.491125 ]]\n",
      "Rotating subhaloes...\n",
      "sub values= [[ 0.          0.          0.        ]\n",
      " [-0.34249496 -0.03552246  0.57082748]\n",
      " [-0.18718338  0.08374023  0.01492691]\n",
      " ...\n",
      " [-2.56719971 -2.11697388 -2.87830353]\n",
      " [-2.41832733 -1.15540695 -3.20204926]\n",
      " [-2.18241882 -1.36922455 -3.05453873]]\n",
      "sub values after= [[ 0.          0.          0.        ]\n",
      " [ 0.06118542 -0.58844872 -0.30723463]\n",
      " [-0.06252676 -0.17291032  0.09200698]\n",
      " ...\n",
      " [-4.33752072  0.39423367  0.62226824]\n",
      " [-3.86160006  0.42854897  1.52996159]\n",
      " [-3.75800454  0.57745452  1.22958641]]\n",
      "Rotating subhaloes...\n",
      "sub values= [[ 1.0386607e-01  5.7208824e-01  8.7625426e-01]\n",
      " [-2.2724979e-01 -5.8865881e-01 -5.3506397e-02]\n",
      " [ 6.4926147e-02  2.5097264e-02  5.5062972e-02]\n",
      " ...\n",
      " [ 1.5899616e-03  7.1374011e-06  1.4904144e-06]\n",
      " [-4.9034825e-06 -1.9416306e-04 -1.3891087e-04]\n",
      " [ 1.0634196e-03  5.0173217e-04 -3.3766063e-04]]\n",
      "sub values after= [[ 8.50765824e-01 -6.07803345e-01 -1.12548724e-01]\n",
      " [-5.08754969e-01  2.75568012e-02 -3.76076579e-01]\n",
      " [ 8.41496959e-02  8.65946710e-03 -2.68523786e-02]\n",
      " ...\n",
      " [ 1.00963423e-03  1.18941441e-03 -3.06534086e-04]\n",
      " [-1.86837322e-04  1.34194182e-04 -6.40570361e-05]\n",
      " [ 7.83182157e-04  8.58098734e-04  3.83279839e-04]]\n",
      "Rotating subhaloes...\n",
      "sub values= [[   4.925902    -4.0962114   -5.1128716]\n",
      " [  37.41776     53.874016  -102.82924  ]\n",
      " [  24.587318  -173.69908    -22.712755 ]\n",
      " ...\n",
      " [  26.430832   -19.929132   -79.297714 ]\n",
      " [  36.5257       3.8731315  -93.55162  ]\n",
      " [  32.867767    -0.7577392  -80.07527  ]]\n",
      "sub values after= [[  -1.902556      7.90864      -1.009264  ]\n",
      " [   0.83092964   74.41245      96.63564   ]\n",
      " [ -95.8224       80.999016   -124.69565   ]\n",
      " ...\n",
      " [ -36.107124     72.89636      27.681803  ]\n",
      " [ -23.533068     82.286964     52.688553  ]\n",
      " [ -21.462824     72.78414      41.650085  ]]\n",
      "There are 1540 trees in file /cds/kravtsov/Simulations/Auriga/level4_MHD/mergertrees/Au-24/trees_sf1_127.0.hdf5\n",
      "Loading desc (Descendant) for blockname /Tree0.\n",
      "Loading fnum (FileNr) for blockname /Tree0.\n",
      "Loading fhfg (FirstHaloInFOFGroup) for blockname /Tree0.\n",
      "Loading fpin (FirstProgenitor) for blockname /Tree0.\n",
      "Loading fmc2 (Group_M_Crit200) for blockname /Tree0.\n",
      "Loading fmm2 (Group_M_Mean200) for blockname /Tree0.\n",
      "Loading fmt2 (Group_M_TopHat200) for blockname /Tree0.\n",
      "Loading frc2 (Group_R_Crit200) for blockname /Tree0.\n",
      "Loading nhfg (NextHaloInFOFGroup) for blockname /Tree0.\n",
      "Loading npin (NextProgenitor) for blockname /Tree0.\n",
      "Loading snum (SnapNum) for blockname /Tree0.\n",
      "Loading sbhm (SubhaloBHMass) for blockname /Tree0.\n",
      "Loading sbhd (SubhaloBHMdot) for blockname /Tree0.\n",
      "Loading sgmt (SubhaloGasMetallicity) for blockname /Tree0.\n",
      "Loading sgmf (SubhaloGasMetallicitySfr) for blockname /Tree0.\n",
      "Loading sgnr (SubhaloGrNr) for blockname /Tree0.\n",
      "Loading shmt (SubhaloHalfmassRadType) for blockname /Tree0.\n",
      "Key SubhaloIDMostBound not found in conversion table, skipping.\n",
      "Loading slen (SubhaloLen) for blockname /Tree0.\n",
      "Loading slty (SubhaloLenType) for blockname /Tree0.\n",
      "Loading smit (SubhaloMassInRadType) for blockname /Tree0.\n",
      "Loading smty (SubhaloMassType) for blockname /Tree0.\n",
      "Loading sbnr (SubhaloNumber) for blockname /Tree0.\n",
      "Loading soty (SubhaloOffsetType) for blockname /Tree0.\n",
      "Loading spos (SubhaloPos) for blockname /Tree0.\n",
      "Loading ssfr (SubhaloSFR) for blockname /Tree0.\n",
      "Loading ssfi (SubhaloSFRinRad) for blockname /Tree0.\n",
      "Loading sspi (SubhaloSpin) for blockname /Tree0.\n",
      "Loading ssmt (SubhaloStarMetallicity) for blockname /Tree0.\n",
      "Loading ssph (SubhaloStellarPhotometrics) for blockname /Tree0.\n",
      "Loading svmx (SubhaloVMax) for blockname /Tree0.\n",
      "Loading svel (SubhaloVel) for blockname /Tree0.\n",
      "Loading svdi (SubhaloVelDisp) for blockname /Tree0.\n",
      "galrad= 0.02408556640148163\n",
      "Centering Subhaloes...\n",
      "sub pos before= [[50.79359055 48.93403625 55.03272247]\n",
      " [50.45109558 48.89851379 55.60354996]\n",
      " [50.60640717 49.01777649 55.04764938]\n",
      " ...\n",
      " [48.22639084 46.81706238 52.15441895]\n",
      " [48.37526321 47.7786293  51.83067322]\n",
      " [48.61117172 47.56481171 51.97818375]]\n",
      "sub pos after= [[ 0.          0.          0.        ]\n",
      " [-0.34249496 -0.03552246  0.57082748]\n",
      " [-0.18718338  0.08374023  0.01492691]\n",
      " ...\n",
      " [-2.56719971 -2.11697388 -2.87830353]\n",
      " [-2.41832733 -1.15540695 -3.20204926]\n",
      " [-2.18241882 -1.36922455 -3.05453873]]\n",
      "!!! agesel\n",
      "Found 857 stars.\n",
      "Rotated pos.\n",
      "Rotated vel.\n",
      "Rotating subhaloes...\n",
      "sub values= [[50.71966  48.92697  55.15064 ]\n",
      " [50.846367 49.66736  58.297184]\n",
      " [51.7898   49.28032  58.271164]\n",
      " ...\n",
      " [48.226307 46.81643  52.155113]\n",
      " [48.37558  47.778194 51.83086 ]\n",
      " [48.609806 47.567024 51.978252]]\n",
      "sub values after= [[ 88.86868    -8.764387   -5.785168 ]\n",
      " [ 91.01539   -10.761217   -7.1523986]\n",
      " [ 91.37628    -9.929051   -7.619079 ]\n",
      " ...\n",
      " [ 84.520325   -8.246437   -5.101161 ]\n",
      " [ 84.996346   -8.2115755  -4.1930842]\n",
      " [ 85.100334   -8.064606   -4.491021 ]]\n",
      "Rotating subhaloes...\n",
      "sub values= [[50.79359  48.934036 55.032722]\n",
      " [50.841927 49.668617 58.297276]\n",
      " [51.788948 49.27594  58.271435]\n",
      " ...\n",
      " [48.22639  46.817062 52.15442 ]\n",
      " [48.375263 47.77863  51.830673]\n",
      " [48.61117  47.56481  51.978184]]\n",
      "sub values after= [[ 88.857895   -8.64037    -5.7225356]\n",
      " [ 91.01334   -10.764956   -7.150615 ]\n",
      " [ 91.373375   -9.928617   -7.6224484]\n",
      " ...\n",
      " [ 84.52038    -8.246139   -5.100268 ]\n",
      " [ 84.99629    -8.2118225  -4.192574 ]\n",
      " [ 85.09989    -8.062915   -4.4929495]]\n",
      "Rotating subhaloes...\n",
      "sub values= [[ 28.255926  30.835302 240.93712 ]\n",
      " [ -4.937017 -54.343723 364.94104 ]\n",
      " [  9.05532   34.47767  316.8458  ]\n",
      " ...\n",
      " [ 44.328323  10.682493 183.22571 ]\n",
      " [ 53.827957  34.665432 168.97084 ]\n",
      " [ 50.03962   30.140202 182.48167 ]]\n",
      "sub values after= [[ 161.28966  -131.69789  -128.22333 ]\n",
      " [ 156.2486   -206.78934  -262.6483  ]\n",
      " [ 190.86687  -192.55258  -167.79543 ]\n",
      " ...\n",
      " [ 129.77652   -79.42511  -111.80557 ]\n",
      " [ 142.07742   -70.531235  -86.5427  ]\n",
      " [ 144.14377   -80.18227   -97.49531 ]]\n",
      "Rotating subhaloes...\n",
      "sub values= [[50.78019  48.932426 55.054436]\n",
      " [50.449963 48.89636  55.604046]\n",
      " [50.606674 49.017616 55.04735 ]\n",
      " ...\n",
      " [48.226166 46.8166   52.154915]\n",
      " [48.37568  47.778263 51.830788]\n",
      " [48.609745 47.567005 51.97842 ]]\n",
      "sub values after= [[88.85984   -8.662963  -5.734347 ]\n",
      " [88.91739   -9.22936   -6.0315084]\n",
      " [88.795296  -8.81286   -5.6305237]\n",
      " ...\n",
      " [84.520226  -8.246473  -5.10088  ]\n",
      " [84.99641   -8.211475  -4.193006 ]\n",
      " [85.10037   -8.064747  -4.491125 ]]\n",
      "Rotating subhaloes...\n",
      "sub values= [[ 0.          0.          0.        ]\n",
      " [-0.34249496 -0.03552246  0.57082748]\n",
      " [-0.18718338  0.08374023  0.01492691]\n",
      " ...\n",
      " [-2.56719971 -2.11697388 -2.87830353]\n",
      " [-2.41832733 -1.15540695 -3.20204926]\n",
      " [-2.18241882 -1.36922455 -3.05453873]]\n",
      "sub values after= [[ 0.          0.          0.        ]\n",
      " [ 0.06118542 -0.58844872 -0.30723463]\n",
      " [-0.06252676 -0.17291032  0.09200698]\n",
      " ...\n",
      " [-4.33752072  0.39423367  0.62226824]\n",
      " [-3.86160006  0.42854897  1.52996159]\n",
      " [-3.75800454  0.57745452  1.22958641]]\n",
      "Rotating subhaloes...\n",
      "sub values= [[ 1.0386607e-01  5.7208824e-01  8.7625426e-01]\n",
      " [-2.2724979e-01 -5.8865881e-01 -5.3506397e-02]\n",
      " [ 6.4926147e-02  2.5097264e-02  5.5062972e-02]\n",
      " ...\n",
      " [ 1.5899616e-03  7.1374011e-06  1.4904144e-06]\n",
      " [-4.9034825e-06 -1.9416306e-04 -1.3891087e-04]\n",
      " [ 1.0634196e-03  5.0173217e-04 -3.3766063e-04]]\n",
      "sub values after= [[ 8.50765824e-01 -6.07803345e-01 -1.12548724e-01]\n",
      " [-5.08754969e-01  2.75568012e-02 -3.76076579e-01]\n",
      " [ 8.41496959e-02  8.65946710e-03 -2.68523786e-02]\n",
      " ...\n",
      " [ 1.00963423e-03  1.18941441e-03 -3.06534086e-04]\n",
      " [-1.86837322e-04  1.34194182e-04 -6.40570361e-05]\n",
      " [ 7.83182157e-04  8.58098734e-04  3.83279839e-04]]\n",
      "Rotating subhaloes...\n",
      "sub values= [[   4.925902    -4.0962114   -5.1128716]\n",
      " [  37.41776     53.874016  -102.82924  ]\n",
      " [  24.587318  -173.69908    -22.712755 ]\n",
      " ...\n",
      " [  26.430832   -19.929132   -79.297714 ]\n",
      " [  36.5257       3.8731315  -93.55162  ]\n",
      " [  32.867767    -0.7577392  -80.07527  ]]\n",
      "sub values after= [[  -1.902556      7.90864      -1.009264  ]\n",
      " [   0.83092964   74.41245      96.63564   ]\n",
      " [ -95.8224       80.999016   -124.69565   ]\n",
      " ...\n",
      " [ -36.107124     72.89636      27.681803  ]\n",
      " [ -23.533068     82.286964     52.688553  ]\n",
      " [ -21.462824     72.78414      41.650085  ]]\n",
      "Calculating circularities\n",
      "max time in calc circ: 2 9.465081930160522\n",
      "dty= [ 8.26814057  8.83245529 11.21902431 ...  9.54005564  9.22951742\n",
      "  9.11959052] 1781846\n",
      "glb= [ 8.26814057  8.83245529 11.21902431 ...  9.54005564  9.22951742\n",
      "  9.11959052] 1781846\n",
      "bidsort lists= 1781846 1781846\n",
      " 1781846\n",
      "max in prep time: 0 10.28216004371643\n"
     ]
    }
   ],
   "source": [
    "\n",
    "# g = load_halo(24, 4)\n",
    "# actual = actual_halo(24,4)"
   ]
  },
  {
   "cell_type": "code",
   "execution_count": 3,
   "metadata": {},
   "outputs": [
    {
     "name": "stdout",
     "output_type": "stream",
     "text": [
      "[-50918.855 -51046.156 -50952.77  ...  27517.303  30045.82   29741.441]\n"
     ]
    }
   ],
   "source": [
    "istars, = np.where( (g.s.data['type'] == 4) & (g.s.data['age'] > 0) & (g.s.r() < g.radialcut) )\n",
    "\n",
    "nstars = size(istars)\n",
    "eps2  = pylab.zeros( nstars )\n",
    "jcmax = pylab.zeros( nstars )\n",
    "spec_energy = pylab.zeros( nstars )\n",
    "pos = g.s.data['pos']\n",
    "vel = g.s.data['vel']\n",
    "pot = g.s.data['pot']\n",
    "j  = pylab.cross( pos[istars,:], vel[istars,:] )\n",
    "jz = j[:,0]\n",
    "\n",
    "# Spec energy is E\n",
    "E = 0.5 * (vel[istars,:]**2).sum(axis=1) + pot[istars]\n",
    "print(E)\n"
   ]
  },
  {
   "cell_type": "code",
   "execution_count": 4,
   "metadata": {},
   "outputs": [],
   "source": [
    "# 1 - plot\n",
    "\n",
    "E = E/1e5\n"
   ]
  },
  {
   "cell_type": "code",
   "execution_count": 68,
   "metadata": {},
   "outputs": [
    {
     "name": "stdout",
     "output_type": "stream",
     "text": [
      "-3.6398427\n",
      "[-3.6398427]\n",
      "-7.536375126987688e-05\n",
      "[array([-3.6398427], dtype=float32), array([-3.3252811], dtype=float32), array([-3.0114381], dtype=float32), array([-2.6890395], dtype=float32), array([-2.3792007], dtype=float32), array([-2.0543194], dtype=float32), array([-1.7374892], dtype=float32), array([-1.4201936], dtype=float32), array([-1.1040758], dtype=float32), array([-0.8088129], dtype=float32), array([-0.5773978], dtype=float32), array([-0.46868023], dtype=float32)] [array([-7.53637513e-05]), array([0.05014644]), array([0.11884253]), array([0.22139792]), array([0.39802]), array([0.77634273]), array([1.41653061]), array([2.56335236]), array([4.87940107]), array([7.00467941]), array([8.14708575]), array([-4.11547494])]\n"
     ]
    },
    {
     "data": {
      "image/png": "[encoded data removed]",
      "text/plain": [
       "<Figure size 560x416 with 1 Axes>"
      ]
     },
     "metadata": {},
     "output_type": "display_data"
    }
   ],
   "source": [
    "\n",
    "isort = np.argsort(E)\n",
    "jz_sorted = jz[isort]\n",
    "E_sorted = E[isort]\n",
    "\n",
    "nslices = 10\n",
    "deltaE = (max(E) - min(E))/nslices\n",
    "Emin = min(E)\n",
    "\n",
    "E_est=[]\n",
    "jz_est=[]\n",
    "split_index = []\n",
    "plt.figure(figsize=(7.,5.2))\n",
    "\n",
    "imin = np.where(E_sorted == Emin)\n",
    "E_est.append(E_sorted[imin])\n",
    "jz_est.append(jz_sorted[imin])\n",
    "split_index.append(imin[0][0])\n",
    "\n",
    "for i in range(nslices):\n",
    "    \n",
    "    iselect = np.where((E_sorted > Emin+i*deltaE) & (E_sorted < Emin+(i+1)*deltaE))\n",
    "    max_jz = max(abs(jz_sorted[iselect]))\n",
    "    imax = np.where(jz_sorted==max_jz)\n",
    "    # print(imax)\n",
    "    split_index.append(imax[0][0])\n",
    "    E_est.append(E_sorted[imax])\n",
    "    jz_est.append(jz_sorted[imax])\n",
    "    # E_est.append(Emin+(i+.5)*deltaE)\n",
    "    # jz_est.append(max_jz)\n",
    "    plt.plot(jz_sorted[iselect],E_sorted[iselect],'.',ms=1,alpha=0.6)\n",
    "    # print(max(jz_sorted[iselect]),mean(E_sorted[iselect]))\n",
    "\n",
    "\n",
    "Emax = max(E)\n",
    "imax_final = np.where(E_sorted == Emax)\n",
    "print(E_sorted[0])\n",
    "print(E_sorted[imin])\n",
    "print(jz_sorted[0])\n",
    "E_est.append(E_sorted[imax_final])\n",
    "jz_est.append(jz_sorted[imax_final])\n",
    "split_index.append(imax_final[0][0])\n",
    "\n",
    "print(E_est, jz_est)\n",
    "\n",
    "npart =len(E)\n",
    "\n",
    "plt.plot(jz_est,E_est,'or',lw=2, label='estimated')\n",
    "plt.xlabel('JZ',fontsize=13)\n",
    "plt.ylabel('Spec Energy',fontsize=13)\n",
    "plt.title('Z Component Angular Velocity vs Spec Energy', fontsize=15, pad=15)\n",
    "# plt.legend()\n",
    "\n",
    "# plt.plot(jz_sorted,E_sorted,'.',ms=1,alpha=0.6)\n",
    "plt.ticklabel_format(axis=\"y\", style=\"sci\", scilimits=(0,0))"
   ]
  },
  {
   "cell_type": "code",
   "execution_count": 10,
   "metadata": {},
   "outputs": [
    {
     "data": {
      "text/plain": [
       "14309088"
      ]
     },
     "execution_count": 10,
     "metadata": {},
     "output_type": "execute_result"
    }
   ],
   "source": [
    "nstars"
   ]
  },
  {
   "cell_type": "code",
   "execution_count": 11,
   "metadata": {},
   "outputs": [
    {
     "data": {
      "text/plain": [
       "286181.76"
      ]
     },
     "execution_count": 11,
     "metadata": {},
     "output_type": "execute_result"
    }
   ],
   "source": [
    "nstars/nslices"
   ]
  },
  {
   "cell_type": "code",
   "execution_count": 8,
   "metadata": {},
   "outputs": [
    {
     "name": "stdout",
     "output_type": "stream",
     "text": [
      "0\n",
      "1\n",
      "2\n",
      "3\n",
      "4\n",
      "5\n",
      "6\n",
      "7\n",
      "8\n",
      "9\n",
      "[-7.536375126987688e-05, 0.16085754995318938, 0.35021452839820966, 0.5611431948487071, 0.8487763299401144, 1.1196652895245511, 1.4473742365304012, 1.8738383207597618, 2.307138114260276, 2.9585979808618252, 8.147085747238803, array([-4.11547494])]\n",
      "[-3.6398427, -2.8613462, -2.4417286, -2.206035, -2.0111947, -1.8691833, -1.7260537, -1.5846105, -1.4741685, -1.3447231, -0.5773978, array([-0.46868023], dtype=float32)]\n"
     ]
    },
    {
     "name": "stderr",
     "output_type": "stream",
     "text": [
      "/software/python-anaconda-2020.02-el7-x86_64/lib/python3.7/site-packages/numpy/core/shape_base.py:65: VisibleDeprecationWarning: Creating an ndarray from ragged nested sequences (which is a list-or-tuple of lists-or-tuples-or ndarrays with different lengths or shapes) is deprecated. If you meant to do this, you must specify 'dtype=object' when creating the ndarray.\n",
      "  ary = asanyarray(ary)\n"
     ]
    },
    {
     "data": {
      "image/png": "[encoded data removed]",
      "text/plain": [
       "<Figure size 560x416 with 1 Axes>"
      ]
     },
     "metadata": {},
     "output_type": "display_data"
    }
   ],
   "source": [
    "\n",
    "isort = np.argsort(E)\n",
    "jz_sorted = jz[isort]\n",
    "E_sorted = E[isort]\n",
    "\n",
    "nslices = 10\n",
    "deltaE = (max(E) - min(E))/nslices\n",
    "Emin = min(E)\n",
    "\n",
    "E_est=[]\n",
    "jz_est=[]\n",
    "split_index = []\n",
    "plt.figure(figsize=(7.,5.2))\n",
    "\n",
    "E_est.append(E_sorted[0])\n",
    "jz_est.append(jz_sorted[0])\n",
    "split_index.append(0)\n",
    "nselect = nstars//nslices\n",
    "# args = np.argwhere() \n",
    "\n",
    "for i in range(nslices):\n",
    "    print(i)\n",
    "    a = i*nselect\n",
    "    b = (i+1)*nselect\n",
    "    max_jz = max(abs(jz_sorted[i*nselect:(i+1)*nselect]))\n",
    "    imax = np.where(abs(jz_sorted)==max_jz)[0][0]\n",
    "    split_index.append(imax)\n",
    "    E_est.append(E_sorted[imax])\n",
    "    jz_est.append(abs(max_jz))\n",
    "    plt.plot(jz_sorted[i*nselect:(i+1)*nselect], E_sorted[i*nselect:(i+1)*nselect], '.', ms=1, alpha=0.6)\n",
    "\n",
    "# iend = E_sorted[nslices*nselect:]\n",
    "# max_jz_end = max(abs(jz_sorted[nslices*nselect:]))\n",
    "# # E_est.append()\n",
    "# plt.plot(jz_sorted[nslices*nselect:], E_sorted[nslices*nselect:], '.', ms=1, alpha=0.6)\n",
    "\n",
    "# npart =len(E)\n",
    "\n",
    "Emax = max(E)\n",
    "imax_final = np.where(E_sorted == Emax)\n",
    "# print(E_sorted[0])\n",
    "# print(E_sorted[imin])\n",
    "# print(jz_sorted[0])\n",
    "E_est.append(E_sorted[imax_final])\n",
    "jz_est.append(jz_sorted[imax_final])\n",
    "split_index.append(imax_final[0][0])\n",
    "\n",
    "print(jz_est)\n",
    "print(E_est)\n",
    "plt.plot(jz_est,E_est,'or',lw=2)\n",
    "plt.xlabel('JZ',fontsize=13)\n",
    "plt.ylabel('Spec Energy',fontsize=13)\n",
    "plt.title('Z Component Angular Velocity vs Spec Energy BIN BY NPART', fontsize=15, pad=15)\n",
    "# plt.legend()\n",
    "\n",
    "# plt.plot(jz_sorted,E_sorted,'.',ms=1,alpha=0.6)\n",
    "plt.ticklabel_format(axis=\"y\", style=\"sci\", scilimits=(0,0))"
   ]
  },
  {
   "cell_type": "code",
   "execution_count": 9,
   "metadata": {},
   "outputs": [
    {
     "name": "stdout",
     "output_type": "stream",
     "text": [
      "0\n",
      "1\n",
      "2\n",
      "3\n",
      "4\n",
      "5\n",
      "6\n",
      "7\n",
      "8\n",
      "9\n",
      "[3.890655952270109e-05, 0.07826865933187394, 0.14789694897081848, 0.22536361949405997, 0.32352990124185954, 0.4390941053601372, 0.6020831979249334, 0.8284781046097054, 1.0694120243668963, 1.3435727060000449, 2.1176833677841733, 0.21079535714780098]\n",
      "[-0.51046157, -0.4071948, -0.36366704, -0.33172163, -0.30433878, -0.27946976, -0.25197375, -0.2167059, -0.17641242, -0.10058877, 0.20325392, array([0.53718007], dtype=float32)]\n"
     ]
    },
    {
     "name": "stderr",
     "output_type": "stream",
     "text": [
      "/software/python-anaconda-2020.02-el7-x86_64/lib/python3.7/site-packages/numpy/core/shape_base.py:65: VisibleDeprecationWarning: Creating an ndarray from ragged nested sequences (which is a list-or-tuple of lists-or-tuples-or ndarrays with different lengths or shapes) is deprecated. If you meant to do this, you must specify 'dtype=object' when creating the ndarray.\n",
      "  ary = asanyarray(ary)\n"
     ]
    },
    {
     "data": {
      "image/png": "[encoded data removed]",
      "text/plain": [
       "<Figure size 560x416 with 1 Axes>"
      ]
     },
     "metadata": {},
     "output_type": "display_data"
    }
   ],
   "source": [
    "\n",
    "isort = np.argsort(E)\n",
    "jz_sorted = jz[isort]\n",
    "E_sorted = E[isort]\n",
    "\n",
    "nslices = 10\n",
    "deltaE = (max(E) - min(E))/nslices\n",
    "Emin = min(E)\n",
    "\n",
    "E_est=[]\n",
    "jz_est=[]\n",
    "split_index = []\n",
    "plt.figure(figsize=(7.,5.2))\n",
    "\n",
    "E_est.append(E_sorted[0])\n",
    "jz_est.append(jz_sorted[0])\n",
    "split_index.append(0)\n",
    "nselect = nstars//nslices\n",
    "# args = np.argwhere() \n",
    "\n",
    "for i in range(nslices):\n",
    "    print(i)\n",
    "    a = i*nselect\n",
    "    b = (i+1)*nselect\n",
    "    max_jz = max(abs(jz_sorted[i*nselect:(i+1)*nselect]))\n",
    "    imax = np.where(abs(jz_sorted)==max_jz)[0][0]\n",
    "    split_index.append(imax)\n",
    "    E_est.append(E_sorted[imax])\n",
    "    jz_est.append(abs(max_jz))\n",
    "    plt.plot(jz_sorted[i*nselect:(i+1)*nselect], E_sorted[i*nselect:(i+1)*nselect], '.', ms=1, alpha=0.6)\n",
    "\n",
    "# iend = E_sorted[nslices*nselect:]\n",
    "# max_jz_end = max(abs(jz_sorted[nslices*nselect:]))\n",
    "# # E_est.append()\n",
    "# plt.plot(jz_sorted[nslices*nselect:], E_sorted[nslices*nselect:], '.', ms=1, alpha=0.6)\n",
    "\n",
    "# npart =len(E)\n",
    "\n",
    "Emax = max(E)\n",
    "imax_final = np.where(E_sorted == Emax)\n",
    "# print(E_sorted[0])\n",
    "# print(E_sorted[imin])\n",
    "# print(jz_sorted[0])\n",
    "E_est.append(E_sorted[imax_final])\n",
    "jz_est.append(jz_sorted[imax_final][0])\n",
    "split_index.append(imax_final[0][0])\n",
    "\n",
    "print(jz_est)\n",
    "print(E_est)\n",
    "plt.plot(jz_est,E_est,'or',lw=2)\n",
    "plt.xlabel('JZ',fontsize=13)\n",
    "plt.ylabel('Spec Energy',fontsize=13)\n",
    "plt.title('Z Component Angular Velocity vs Spec Energy SNAP 30', fontsize=15, pad=15)\n",
    "# plt.legend()\n",
    "\n",
    "# plt.plot(jz_sorted,E_sorted,'.',ms=1,alpha=0.6)\n",
    "plt.ticklabel_format(axis=\"y\", style=\"sci\", scilimits=(0,0))"
   ]
  },
  {
   "cell_type": "code",
   "execution_count": 115,
   "metadata": {},
   "outputs": [
    {
     "data": {
      "text/plain": [
       "14309080"
      ]
     },
     "execution_count": 115,
     "metadata": {},
     "output_type": "execute_result"
    }
   ],
   "source": [
    "nselect * nslices"
   ]
  },
  {
   "cell_type": "code",
   "execution_count": 117,
   "metadata": {},
   "outputs": [
    {
     "data": {
      "text/plain": [
       "12"
      ]
     },
     "execution_count": 117,
     "metadata": {},
     "output_type": "execute_result"
    }
   ],
   "source": [
    "len(split_index)"
   ]
  },
  {
   "cell_type": "code",
   "execution_count": 116,
   "metadata": {},
   "outputs": [
    {
     "data": {
      "text/plain": [
       "14309088"
      ]
     },
     "execution_count": 116,
     "metadata": {},
     "output_type": "execute_result"
    }
   ],
   "source": [
    "nstars"
   ]
  },
  {
   "cell_type": "code",
   "execution_count": 50,
   "metadata": {},
   "outputs": [
    {
     "data": {
      "image/png": "[encoded data removed]",
      "text/plain": [
       "<Figure size 560x416 with 1 Axes>"
      ]
     },
     "metadata": {},
     "output_type": "display_data"
    }
   ],
   "source": [
    "# 2 - slice in E\n",
    "\n",
    "isort = np.argsort(E)\n",
    "jz_sorted = jz[isort]\n",
    "E_sorted = E[isort]\n",
    "\n",
    "nslices = 10\n",
    "deltaE = (max(E) - min(E))/nslices\n",
    "Emin = min(E)\n",
    "\n",
    "E_est=[]\n",
    "jz_est=[]\n",
    "plt.figure(figsize=(7.,5.2))\n",
    "\n",
    "E_est.append(E_sorted[0])\n",
    "jz_est.append(jz_sorted[0])\n",
    "nselect = nstars//nslices\n",
    "\n",
    "for i in range(nslices):\n",
    "    max_jz = max(abs(jz_sorted[i*nselect:(i+1)*nselect]))\n",
    "    imax = np.where(abs(jz_sorted)==max_jz)[0][0]\n",
    "    E_est.append(E_sorted[imax])\n",
    "    jz_est.append(abs(max_jz))\n",
    "\n",
    "nslices= 100\n",
    "deltaE = (max(E) - min(E))/nslices\n",
    "Emin = min(E)\n",
    "E_est100=[]\n",
    "jz_est100=[]\n",
    "\n",
    "E_est100.append(E_sorted[0])\n",
    "jz_est100.append(jz_sorted[0])\n",
    "nselect = nstars//nslices\n",
    "\n",
    "for i in range(nslices):\n",
    "    max_jz = max(abs(jz_sorted[i*nselect:(i+1)*nselect]))\n",
    "    imax = np.where(abs(jz_sorted)==max_jz)[0][0]\n",
    "    E_est100.append(E_sorted[imax])\n",
    "    jz_est100.append(abs(max_jz))\n",
    "\n",
    "nslices= 50\n",
    "deltaE = (max(E) - min(E))/nslices\n",
    "Emin = min(E)\n",
    "E_est50=[]\n",
    "jz_est50=[]\n",
    "\n",
    "E_est50.append(E_sorted[0])\n",
    "jz_est50.append(jz_sorted[0])\n",
    "nselect = nstars//nslices\n",
    "\n",
    "for i in range(nslices):\n",
    "    max_jz = max(abs(jz_sorted[i*nselect:(i+1)*nselect]))\n",
    "    imax = np.where(abs(jz_sorted)==max_jz)[0][0]\n",
    "    E_est50.append(E_sorted[imax])\n",
    "    jz_est50.append(abs(max_jz))\n",
    "\n",
    "\n",
    "plt.xlabel('JZ Est',fontsize=13)\n",
    "# plt.xlim(-2,12)\n",
    "# plt.ylim(-4.0E5, -1.8E5)\n",
    "plt.ylabel('Spec Energy Est',fontsize=13)\n",
    "\n",
    "plt.title('Estimated Angular Velocity vs Spec Energy', fontsize=15, pad=20)\n",
    "plt.plot(jz_est,E_est,'--r',lw=2, label='10 slices')\n",
    "plt.plot(jz_est100, E_est100, '--b',lw=2, label='100 slices')\n",
    "plt.plot(jz_est50, E_est50, '--g',lw=2, label='50 slices')\n",
    "\n",
    "plt.legend(loc=0)\n",
    "plt.ticklabel_format(axis=\"y\", style=\"sci\", scilimits=(0,0))\n",
    "# print(E_est)"
   ]
  },
  {
   "cell_type": "code",
   "execution_count": null,
   "metadata": {},
   "outputs": [],
   "source": [
    "# create a line between each of the red points, and then map the particles in that slice onto the line\n",
    "# use E_sorted to tranverse"
   ]
  },
  {
   "cell_type": "code",
   "execution_count": 75,
   "metadata": {},
   "outputs": [
    {
     "data": {
      "text/plain": [
       "[-3.6398427,\n",
       " -2.8613462,\n",
       " -2.4417286,\n",
       " -2.206035,\n",
       " -2.0111947,\n",
       " -1.8691833,\n",
       " -1.7260537,\n",
       " -1.5846105,\n",
       " -1.4741685,\n",
       " -1.3447231,\n",
       " -0.5773978]"
      ]
     },
     "execution_count": 75,
     "metadata": {},
     "output_type": "execute_result"
    }
   ],
   "source": [
    "E_est"
   ]
  },
  {
   "cell_type": "code",
   "execution_count": 23,
   "metadata": {},
   "outputs": [
    {
     "name": "stdout",
     "output_type": "stream",
     "text": [
      "1500807\n",
      "[3.890655952270109e-05, 0.07826865933187394, 0.14789694897081848, 0.22536361949405997, 0.32352990124185954, 0.4390941053601372, 0.6020831979249334, 0.8284781046097054, 1.0694120243668963, 1.3435727060000449, 2.1176833677841733, 0.21079535714780098]\n",
      "[1.3200447649191644, 0.6251446414487256, 0.4123761506054432, 0.27894354517085956, 0.21519660818256148, 0.1686984670716399, 0.15578020421319375, 0.16723873901537334, 0.27656646209218205, 0.3925055015609729, 0.3925055015609729]\n",
      "[-0.5105129272326164, -0.4561240261990315, -0.4246562155661845, -0.39458536064692395, -0.37396132041862884, -0.3535442607466193, -0.34576639173317114, -0.35525953692768525, -0.4721759185826787, -0.6279484475728081, -0.6279484475728081]\n"
     ]
    },
    {
     "data": {
      "text/plain": [
       "Text(0.5, 1.0, 'Estimated Angular Velocity vs Spec Energy')"
      ]
     },
     "execution_count": 23,
     "metadata": {},
     "output_type": "execute_result"
    },
    {
     "data": {
      "image/png": "[encoded data removed]",
      "text/plain": [
       "<Figure size 640x480 with 1 Axes>"
      ]
     },
     "metadata": {},
     "output_type": "display_data"
    }
   ],
   "source": [
    "npart =len(E)\n",
    "print(npart)\n",
    "print(jz_est)\n",
    "# print(type(E_est))\n",
    "# print(type(jz_est))\n",
    "slope_E = []\n",
    "y_int = []\n",
    "\n",
    "# for i, _ in enumerate(E_est):\n",
    "for i in range(1, len(E_est)):\n",
    "    # if i == 0:\n",
    "        # continue\n",
    "    slope = (E_est[i]-E_est[i-1])/(jz_est[i]-jz_est[i-1])\n",
    "    if slope <= 0:\n",
    "        slope = slope_E[-1]\n",
    "        yint = y_int[-1]\n",
    "        x_vals = np.linspace(jz_est[i-2], jz_est[i-1])\n",
    "        y_vals = slope*x_vals + yint\n",
    "    else:\n",
    "        yint = E_est[i] - slope*jz_est[i]\n",
    "        x_vals = np.linspace(jz_est[i-1], jz_est[i])\n",
    "        y_vals = slope*x_vals + yint\n",
    "    slope_E.append(slope)\n",
    "    y_int.append(yint)\n",
    "    plt.plot(x_vals, y_vals)\n",
    "print(slope_E)\n",
    "print(y_int)\n",
    "plt.xlabel('JZ Est',fontsize=13)\n",
    "plt.ylabel('Spec Energy Est',fontsize=13)\n",
    "plt.title('Estimated Angular Velocity vs Spec Energy', fontsize=15, pad=20)\n"
   ]
  },
  {
   "cell_type": "code",
   "execution_count": 20,
   "metadata": {},
   "outputs": [
    {
     "name": "stdout",
     "output_type": "stream",
     "text": [
      "1500807\n",
      "[3.890655952270109e-05, 0.07826865933187394, 0.14789694897081848, 0.22536361949405997, 0.32352990124185954, 0.4390941053601372, 0.6020831979249334, 0.8284781046097054, 1.0694120243668963, 1.3435727060000449, 2.1176833677841733, 0.21079535714780098]\n",
      "1\n",
      "2\n",
      "3\n",
      "4\n",
      "5\n",
      "6\n",
      "7\n",
      "8\n",
      "9\n",
      "10\n",
      "11\n",
      "[1.3200447649191644, 0.6251446414487256, 0.4123761506054432, 0.27894354517085956, 0.21519660818256148, 0.1686984670716399, 0.15578020421319375, 0.16723873901537334, 0.27656646209218205, 0.3925055015609729, 0.3925055015609729]\n",
      "[-0.5105129272326164, -0.4561240261990315, -0.4246562155661845, -0.39458536064692395, -0.37396132041862884, -0.3535442607466193, -0.34576639173317114, -0.35525953692768525, -0.4721759185826787, -0.6279484475728081, -0.6279484475728081]\n"
     ]
    },
    {
     "data": {
      "text/plain": [
       "Text(0.5, 1.0, 'Estimated Angular Velocity vs Spec Energy SNAP 30')"
      ]
     },
     "execution_count": 20,
     "metadata": {},
     "output_type": "execute_result"
    },
    {
     "data": {
      "image/png": "[encoded data removed]",
      "text/plain": [
       "<Figure size 640x480 with 1 Axes>"
      ]
     },
     "metadata": {},
     "output_type": "display_data"
    }
   ],
   "source": [
    "npart =len(E)\n",
    "print(npart)\n",
    "print(jz_est)\n",
    "# print(type(E_est))\n",
    "# print(type(jz_est))\n",
    "slope_E = []\n",
    "y_int = []\n",
    "\n",
    "# for i, _ in enumerate(E_est):\n",
    "for i in range(1, len(E_est)):\n",
    "    print(i)\n",
    "    # if i == 0:\n",
    "        # continue\n",
    "    slope = (E_est[i]-E_est[i-1])/(jz_est[i]-jz_est[i-1])\n",
    "    if slope <= 0:\n",
    "        slope = slope_E[-1]\n",
    "        yint = y_int[-1]\n",
    "        y_int.append(yint)\n",
    "        x_vals = np.linspace(jz_est[i-2], jz_est[i-1])\n",
    "    else:\n",
    "        yint = E_est[i] - slope*jz_est[i]\n",
    "        y_int.append(yint)\n",
    "        x_vals = np.linspace(jz_est[i-1], jz_est[i])\n",
    "    slope_E.append(slope)\n",
    "    # print(x_vals)\n",
    "    y_vals = slope*x_vals + yint\n",
    "    plt.plot(x_vals, y_vals)\n",
    "print(slope_E)\n",
    "print(y_int)\n",
    "plt.xlabel('JZ Est',fontsize=13)\n",
    "plt.ylabel('Spec Energy Est',fontsize=13)\n",
    "plt.title('Estimated Angular Velocity vs Spec Energy SNAP 30', fontsize=15, pad=20)\n"
   ]
  },
  {
   "cell_type": "code",
   "execution_count": 17,
   "metadata": {},
   "outputs": [
    {
     "data": {
      "text/plain": [
       "[3.890655952270109e-05,\n",
       " 0.07826865933187394,\n",
       " 0.14789694897081848,\n",
       " 0.22536361949405997,\n",
       " 0.32352990124185954,\n",
       " 0.4390941053601372,\n",
       " 0.6020831979249334,\n",
       " 0.8284781046097054,\n",
       " 1.0694120243668963,\n",
       " 1.3435727060000449,\n",
       " 2.1176833677841733,\n",
       " 0.21079535714780098]"
      ]
     },
     "execution_count": 17,
     "metadata": {},
     "output_type": "execute_result"
    }
   ],
   "source": [
    "jz_est"
   ]
  },
  {
   "cell_type": "code",
   "execution_count": 51,
   "metadata": {},
   "outputs": [
    {
     "data": {
      "text/plain": [
       "[-7.536375126987688e-05,\n",
       " 0.16085754995318938,\n",
       " 0.35021452839820966,\n",
       " 0.5611431948487071,\n",
       " 0.8487763299401144,\n",
       " 1.1196652895245511,\n",
       " 1.4473742365304012,\n",
       " 1.8738383207597618,\n",
       " 2.307138114260276,\n",
       " 2.9585979808618252,\n",
       " 8.147085747238803]"
      ]
     },
     "execution_count": 51,
     "metadata": {},
     "output_type": "execute_result"
    }
   ],
   "source": [
    "jz_est"
   ]
  },
  {
   "cell_type": "code",
   "execution_count": 19,
   "metadata": {},
   "outputs": [
    {
     "data": {
      "text/plain": [
       "12"
      ]
     },
     "execution_count": 19,
     "metadata": {},
     "output_type": "execute_result"
    }
   ],
   "source": [
    "len(split_index)"
   ]
  },
  {
   "cell_type": "code",
   "execution_count": 22,
   "metadata": {},
   "outputs": [
    {
     "data": {
      "text/plain": [
       "0.1478899665273127"
      ]
     },
     "execution_count": 22,
     "metadata": {},
     "output_type": "execute_result"
    }
   ],
   "source": [
    "slope"
   ]
  },
  {
   "cell_type": "code",
   "execution_count": 46,
   "metadata": {},
   "outputs": [
    {
     "name": "stderr",
     "output_type": "stream",
     "text": [
      "/software/python-anaconda-2020.02-el7-x86_64/lib/python3.7/site-packages/ipykernel_launcher.py:15: VisibleDeprecationWarning: Creating an ndarray from ragged nested sequences (which is a list-or-tuple of lists-or-tuples-or ndarrays with different lengths or shapes) is deprecated. If you meant to do this, you must specify 'dtype=object' when creating the ndarray.\n",
      "  from ipykernel import kernelapp as app\n"
     ]
    }
   ],
   "source": [
    "epsilon = []\n",
    "# jz_max = np.zeros_like(E_sorted)\n",
    "\n",
    "from parallel_decorators import vectorize_parallel\n",
    "\n",
    "@vectorize_parallel(method='processes', num_procs=11)\n",
    "def slice_normalization(i, esorted, slope, intercept):\n",
    "\n",
    "    slice_slope = slope[i]\n",
    "    slice_intercept = intercept[i]\n",
    "\n",
    "    jz_max = (esorted[split_index[i]:split_index[i+1]] - slice_intercept) / slice_slope\n",
    "    return jz_max \n",
    "\n",
    "results = array(slice_normalization(arange(len(split_index)-1), E_sorted, slope_E, y_int))\n"
   ]
  },
  {
   "cell_type": "code",
   "execution_count": 47,
   "metadata": {},
   "outputs": [],
   "source": [
    "r = (E_sorted[split_index[-1]:] - y_int[-1]) / slope_E[-1]\n"
   ]
  },
  {
   "cell_type": "code",
   "execution_count": 32,
   "metadata": {},
   "outputs": [],
   "source": [
    "c = np.append(results[0], np.array(r))"
   ]
  },
  {
   "cell_type": "code",
   "execution_count": 39,
   "metadata": {},
   "outputs": [
    {
     "data": {
      "text/plain": [
       "array([array([-7.5359116e-05,  5.9952145e-04,  6.0750585e-04, ...,\n",
       "               1.6085756e-01,  1.6085756e-01,  1.6085756e-01], dtype=float32),\n",
       "       array([0.16085753, 0.16085763, 0.16085786, ..., 0.35021418, 0.3502143 ,\n",
       "              0.3502144 ], dtype=float32)                                     ,\n",
       "       array([0.3502146 , 0.3502146 , 0.3502148 , ..., 0.56114286, 0.56114286,\n",
       "              0.5611433 ], dtype=float32)                                     ,\n",
       "       array([0.5611433 , 0.56114364, 0.561145  , ..., 0.84877604, 0.84877604,\n",
       "              0.84877604], dtype=float32)                                     ,\n",
       "       array([0.8487766, 0.848777 , 0.848777 , ..., 1.1196653, 1.1196655,\n",
       "              1.1196655], dtype=float32)                                 ,\n",
       "       array([1.1196651, 1.1196654, 1.1196654, ..., 1.4473735, 1.4473735,\n",
       "              1.4473741], dtype=float32)                                 ,\n",
       "       array([1.4473739, 1.4473753, 1.4473757, ..., 1.8738369, 1.8738369,\n",
       "              1.8738376], dtype=float32)                                 ,\n",
       "       array([1.8738385, 1.8738389, 1.8738403, ..., 2.3071373, 2.3071373,\n",
       "              2.3071382], dtype=float32)                                 ,\n",
       "       array([2.307138 , 2.307138 , 2.307138 , ..., 2.958596 , 2.9585972,\n",
       "              2.9585972], dtype=float32)                                 ,\n",
       "       array([2.958598 , 2.958598 , 2.9585989, ..., 8.139528 , 8.144048 ,\n",
       "              8.144618 ], dtype=float32)                                 ,\n",
       "       array([8.147085 , 8.147926 , 8.148434 , 8.148686 , 8.149206 , 8.150042 ,\n",
       "              8.150361 , 8.152186 , 8.15342  , 8.153857 , 8.1548605, 8.157563 ,\n",
       "              8.158952 , 8.163119 , 8.165287 , 8.166344 , 8.16776  , 8.167922 ,\n",
       "              8.169056 , 8.172006 , 8.177085 , 8.177336 , 8.186724 , 8.189087 ,\n",
       "              8.189378 , 8.1898365, 8.190998 , 8.1913   , 8.1970215, 8.198211 ,\n",
       "              8.199998 , 8.207533 , 8.21226  , 8.213148 , 8.2136965, 8.221927 ,\n",
       "              8.2247925, 8.225777 , 8.227484 , 8.229676 , 8.229724 , 8.230026 ,\n",
       "              8.236952 , 8.24093  , 8.245746 , 8.247616 , 8.249635 , 8.250272 ,\n",
       "              8.250961 , 8.251435 , 8.255493 , 8.256062 , 8.256342 , 8.26247  ,\n",
       "              8.266828 , 8.267761 , 8.270049 , 8.274799 , 8.275027 , 8.275302 ,\n",
       "              8.27765  , 8.279104 , 8.279974 , 8.282232 , 8.285038 , 8.285578 ,\n",
       "              8.288628 , 8.290459 , 8.290976 , 8.291666 , 8.2933855, 8.295162 ,\n",
       "              8.295279 , 8.299516 , 8.301611 , 8.306789 , 8.309269 , 8.309383 ,\n",
       "              8.313404 , 8.314239 , 8.315867 , 8.3167095, 8.334842 , 8.337457 ,\n",
       "              8.337873 , 8.359516 , 8.367631 , 8.372324 , 8.372442 , 8.37536  ,\n",
       "              8.389948 , 8.400959 , 8.4025955, 8.40266  , 8.409011 , 8.420444 ,\n",
       "              8.428058 , 8.439453 , 8.451696 , 8.458043 , 8.465599 , 8.467435 ,\n",
       "              8.483433 , 8.497107 , 8.499737 , 8.500021 , 8.515715 , 8.521441 ,\n",
       "              8.530932 , 8.531671 , 8.563236 , 8.630729 , 8.660707 , 8.718796 ,\n",
       "              8.825407 , 8.83567  , 8.880015 ], dtype=float32)                 ],\n",
       "      dtype=object)"
      ]
     },
     "execution_count": 39,
     "metadata": {},
     "output_type": "execute_result"
    }
   ],
   "source": [
    "results"
   ]
  },
  {
   "cell_type": "code",
   "execution_count": 48,
   "metadata": {},
   "outputs": [],
   "source": [
    "results = np.concatenate(results).ravel()\n",
    "# len(results)"
   ]
  },
  {
   "cell_type": "code",
   "execution_count": 42,
   "metadata": {},
   "outputs": [
    {
     "data": {
      "text/plain": [
       "array([-7.5359116e-05,  5.9952145e-04,  6.0750585e-04, ...,\n",
       "        8.8254070e+00,  8.8356705e+00,  8.8800154e+00], dtype=float32)"
      ]
     },
     "execution_count": 42,
     "metadata": {},
     "output_type": "execute_result"
    }
   ],
   "source": [
    "results"
   ]
  },
  {
   "cell_type": "code",
   "execution_count": 49,
   "metadata": {},
   "outputs": [
    {
     "data": {
      "text/plain": [
       "array([-7.5359116e-05,  5.9952145e-04,  6.0750585e-04, ...,\n",
       "        8.8356705e+00,  8.8800154e+00,  8.8822098e+00], dtype=float32)"
      ]
     },
     "execution_count": 49,
     "metadata": {},
     "output_type": "execute_result"
    }
   ],
   "source": [
    "np.append(results, r)"
   ]
  },
  {
   "cell_type": "code",
   "execution_count": null,
   "metadata": {},
   "outputs": [],
   "source": [
    "print(results)\n",
    "print(size(results))\n",
    "# results[nslices*nselect:] = (E_sorted[split_index[-1]] - y_int[-1]) / slope_E[-1]\n",
    "results = np.append(results, np.array((E_sorted[split_index[-1]] - y_int[-1]) / slope_E[-1]))\n",
    "\n",
    "print(len(jz_sorted))\n",
    "print(results)\n",
    "results = np.concatenate(results).ravel()\n",
    "print(len(results))\n",
    "print(results)\n",
    "epsilon = jz_sorted[:-1] / results"
   ]
  },
  {
   "cell_type": "code",
   "execution_count": 46,
   "metadata": {},
   "outputs": [
    {
     "data": {
      "text/plain": [
       "array([-0.83989155], dtype=float32)"
      ]
     },
     "execution_count": 46,
     "metadata": {},
     "output_type": "execute_result"
    }
   ],
   "source": [
    "max(E_est)"
   ]
  },
  {
   "cell_type": "code",
   "execution_count": 45,
   "metadata": {},
   "outputs": [
    {
     "name": "stdout",
     "output_type": "stream",
     "text": [
      "-0.67035127\n"
     ]
    }
   ],
   "source": [
    "print(max(E_sorted))"
   ]
  },
  {
   "cell_type": "code",
   "execution_count": 6,
   "metadata": {},
   "outputs": [],
   "source": [
    "# O(Npart)\n",
    "\n",
    "# i_slice = 0\n",
    "# jz_max = []\n",
    "# epsilon = []\n",
    "# for i,Epart in enumerate(E_sorted):\n",
    "#     # print(i, i_slice)\n",
    "#     if Epart > E_est[i_slice + 1]:\n",
    "#         i_slice += 1\n",
    "\n",
    "#     slice_slope = slope_E[i_slice]\n",
    "#     slice_intercept = y_int[i_slice]\n",
    "\n",
    "#     jz_max_i = (Epart - slice_intercept) / slice_slope\n",
    "#     epsilon_i = jz_sorted[i]/jz_max_i\n",
    "\n",
    "#     jz_max.append(jz_max_i)\n",
    "#     epsilon.append(epsilon_i)"
   ]
  },
  {
   "cell_type": "code",
   "execution_count": 45,
   "metadata": {},
   "outputs": [
    {
     "data": {
      "text/plain": [
       "1781846"
      ]
     },
     "execution_count": 45,
     "metadata": {},
     "output_type": "execute_result"
    }
   ],
   "source": [
    "E_sorted.size"
   ]
  },
  {
   "cell_type": "code",
   "execution_count": null,
   "metadata": {},
   "outputs": [],
   "source": []
  },
  {
   "cell_type": "code",
   "execution_count": 108,
   "metadata": {},
   "outputs": [
    {
     "name": "stdout",
     "output_type": "stream",
     "text": [
      "0\n",
      "1\n",
      "2\n",
      "3\n",
      "4\n",
      "5\n",
      "6\n",
      "7\n",
      "8\n",
      "9\n"
     ]
    },
    {
     "name": "stderr",
     "output_type": "stream",
     "text": [
      "/software/python-anaconda-2020.02-el7-x86_64/lib/python3.7/site-packages/ipykernel_launcher.py:15: RuntimeWarning: divide by zero encountered in true_divide\n",
      "  from ipykernel import kernelapp as app\n"
     ]
    }
   ],
   "source": [
    "i_slice = 0\n",
    "jz_max = []\n",
    "epsilon = []\n",
    "jz_max = np.zeros_like(E_sorted)\n",
    "\n",
    "for i in range(nslices):\n",
    "    \n",
    "    slice_slope = slope_E[i]\n",
    "    slice_intercept = y_int[i]\n",
    "\n",
    "    jz_max[split_index[i]:split_index[i+1]] = (E_sorted[split_index[i]:split_index[i+1]] - slice_intercept) / slice_slope\n",
    "\n",
    "jz_max[nslices*nselect:] = (E_sorted[split_index[-1]] - slice_intercept) / slice_slope\n",
    "\n",
    "epsilon = jz_sorted / jz_max\n"
   ]
  },
  {
   "cell_type": "code",
   "execution_count": 94,
   "metadata": {},
   "outputs": [
    {
     "data": {
      "text/plain": [
       "array([ 3.83739768,  1.21601367,  0.11740949, -0.32260867, -0.47575787,\n",
       "       -0.56324175, -0.6683349 , -0.7451143 , -0.80129945, -0.85211003])"
      ]
     },
     "execution_count": 94,
     "metadata": {},
     "output_type": "execute_result"
    }
   ],
   "source": [
    "p = np.array(slope_E) - 1\n",
    "p"
   ]
  },
  {
   "cell_type": "code",
   "execution_count": 97,
   "metadata": {},
   "outputs": [
    {
     "data": {
      "text/plain": [
       "array([-0.32260867, -0.47575787, -0.56324175, -0.6683349 , -0.7451143 ,\n",
       "       -0.80129945, -0.85211003])"
      ]
     },
     "execution_count": 97,
     "metadata": {},
     "output_type": "execute_result"
    }
   ],
   "source": [
    "p[np.where(p<=0)[0]]"
   ]
  },
  {
   "cell_type": "code",
   "execution_count": 81,
   "metadata": {},
   "outputs": [
    {
     "data": {
      "text/plain": [
       "[0,\n",
       " 1412593,\n",
       " 2859943,\n",
       " 4275176,\n",
       " 5719179,\n",
       " 7150288,\n",
       " 8584951,\n",
       " 10011881,\n",
       " 11444727,\n",
       " 12876009,\n",
       " 14308970]"
      ]
     },
     "execution_count": 81,
     "metadata": {},
     "output_type": "execute_result"
    }
   ],
   "source": [
    "split_index"
   ]
  },
  {
   "cell_type": "code",
   "execution_count": 91,
   "metadata": {},
   "outputs": [
    {
     "data": {
      "text/plain": [
       "array([-7.5359116e-05,  5.9952145e-04,  6.0750585e-04, ...,\n",
       "        8.1470861e+00,  8.1470861e+00,  8.1470861e+00], dtype=float32)"
      ]
     },
     "execution_count": 91,
     "metadata": {},
     "output_type": "execute_result"
    }
   ],
   "source": [
    "jz_max"
   ]
  },
  {
   "cell_type": "code",
   "execution_count": 113,
   "metadata": {},
   "outputs": [
    {
     "data": {
      "text/plain": [
       "0.6443775976652307"
      ]
     },
     "execution_count": 113,
     "metadata": {},
     "output_type": "execute_result"
    }
   ],
   "source": [
    "median(epsilon)"
   ]
  },
  {
   "cell_type": "code",
   "execution_count": 2,
   "metadata": {},
   "outputs": [
    {
     "name": "stdout",
     "output_type": "stream",
     "text": [
      "There are 2446 trees in file /project2/kravtsov/Auriga/level3_MHD/mergertrees/Au-24/trees_sf1_063.0.hdf5\n",
      "Loading desc (Descendant) for blockname /Tree0.\n",
      "Loading fnum (FileNr) for blockname /Tree0.\n",
      "Loading fhfg (FirstHaloInFOFGroup) for blockname /Tree0.\n",
      "Loading fpin (FirstProgenitor) for blockname /Tree0.\n",
      "Loading fmc2 (Group_M_Crit200) for blockname /Tree0.\n",
      "Loading fmm2 (Group_M_Mean200) for blockname /Tree0.\n",
      "Loading fmt2 (Group_M_TopHat200) for blockname /Tree0.\n",
      "Loading frc2 (Group_R_Crit200) for blockname /Tree0.\n",
      "Loading nhfg (NextHaloInFOFGroup) for blockname /Tree0.\n",
      "Loading npin (NextProgenitor) for blockname /Tree0.\n",
      "Loading snum (SnapNum) for blockname /Tree0.\n",
      "Loading sbhm (SubhaloBHMass) for blockname /Tree0.\n",
      "Loading sbhd (SubhaloBHMdot) for blockname /Tree0.\n",
      "Loading sgmt (SubhaloGasMetallicity) for blockname /Tree0.\n",
      "Loading sgmf (SubhaloGasMetallicitySfr) for blockname /Tree0.\n",
      "Loading sgnr (SubhaloGrNr) for blockname /Tree0.\n",
      "Loading shmt (SubhaloHalfmassRadType) for blockname /Tree0.\n",
      "Key SubhaloIDMostBound not found in conversion table, skipping.\n",
      "Loading slen (SubhaloLen) for blockname /Tree0.\n",
      "Loading slty (SubhaloLenType) for blockname /Tree0.\n",
      "Loading smit (SubhaloMassInRadType) for blockname /Tree0.\n",
      "Loading smty (SubhaloMassType) for blockname /Tree0.\n",
      "Loading sbnr (SubhaloNumber) for blockname /Tree0.\n",
      "Loading soty (SubhaloOffsetType) for blockname /Tree0.\n",
      "Loading spos (SubhaloPos) for blockname /Tree0.\n",
      "Loading ssfr (SubhaloSFR) for blockname /Tree0.\n",
      "Loading ssfi (SubhaloSFRinRad) for blockname /Tree0.\n",
      "Loading sspi (SubhaloSpin) for blockname /Tree0.\n",
      "Loading ssmt (SubhaloStarMetallicity) for blockname /Tree0.\n",
      "Loading ssph (SubhaloStellarPhotometrics) for blockname /Tree0.\n",
      "Loading svmx (SubhaloVMax) for blockname /Tree0.\n",
      "Loading svel (SubhaloVel) for blockname /Tree0.\n",
      "Loading svdi (SubhaloVelDisp) for blockname /Tree0.\n"
     ]
    },
    {
     "name": "stderr",
     "output_type": "stream",
     "text": [
      "/home/lgvanover/.local/lib/python3.7/site-packages/gadget_snap.py:653: H5pyDeprecationWarning: Using astype() as a context manager is deprecated. Slice the returned object instead, like: ds.astype(np.int32)[:10]\n",
      "  with dset.astype('uint64'):\n",
      "/home/lgvanover/.local/lib/python3.7/site-packages/gadget_subfind.py:435: H5pyDeprecationWarning: Using astype() as a context manager is deprecated. Slice the returned object instead, like: ds.astype(np.int32)[:10]\n",
      "  with dset.astype('int64'):\n"
     ]
    },
    {
     "name": "stdout",
     "output_type": "stream",
     "text": [
      "galrad= 0.023956823348999026\n",
      "Centering Subhaloes...\n",
      "sub pos before= [[50.7911377  48.88329697 55.00044632]\n",
      " [50.45192719 48.85833359 55.55807495]\n",
      " [50.60752106 49.02783203 55.01340103]\n",
      " ...\n",
      " [48.73198318 47.91682434 52.20514297]\n",
      " [48.2632637  47.97677231 51.74100494]\n",
      " [48.30436325 48.21684265 51.18212128]]\n",
      "sub pos after= [[ 0.          0.          0.        ]\n",
      " [-0.33921051 -0.02496338  0.55762863]\n",
      " [-0.18361664  0.14453506  0.01295471]\n",
      " ...\n",
      " [-2.05915451 -0.96647263 -2.79530334]\n",
      " [-2.52787399 -0.90652466 -3.25944138]\n",
      " [-2.48677444 -0.66645432 -3.81832504]]\n",
      "!!! agesel\n",
      "Found 5064 stars.\n",
      "Rotated pos.\n",
      "Rotated vel.\n",
      "Rotating subhaloes...\n",
      "sub values= [[50.688057 48.882477 55.149303]\n",
      " [50.871426 49.644836 58.1277  ]\n",
      " [51.757504 49.243988 58.0621  ]\n",
      " ...\n",
      " [48.50052  47.848724 52.13737 ]\n",
      " [48.186646 47.14503  51.88894 ]\n",
      " [48.303635 48.216793 51.182114]]\n",
      "sub values after= [[88.97127   -5.799915  -7.12009  ]\n",
      " [91.13428   -7.7590237 -8.104431 ]\n",
      " [91.37933   -7.0206337 -8.691665 ]\n",
      " ...\n",
      " [85.44414   -5.2505436 -5.6425195]\n",
      " [84.70047   -5.230265  -5.9618464]\n",
      " [85.03946   -4.7948227 -4.7967553]]\n",
      "Rotating subhaloes...\n",
      "sub values= [[50.791138 48.883297 55.000446]\n",
      " [50.87303  49.64379  58.128334]\n",
      " [51.754887 49.246628 58.06271 ]\n",
      " ...\n",
      " [48.50052  47.848724 52.13737 ]\n",
      " [48.186646 47.14503  51.88894 ]\n",
      " [48.304363 48.216843 51.18212 ]]\n",
      "sub values after= [[88.9529    -5.6245623 -7.0788693]\n",
      " [91.13493   -7.758157  -8.1061325]\n",
      " [91.379715  -7.0232644 -8.688997 ]\n",
      " ...\n",
      " [85.44414   -5.2505436 -5.6425195]\n",
      " [84.70047   -5.230265  -5.9618464]\n",
      " [85.039925  -4.7943034 -4.796971 ]]\n",
      "Rotating subhaloes...\n",
      "sub values= [[ 32.51071    29.816359  236.73442  ]\n",
      " [ -1.1191223 -33.2394    348.1911   ]\n",
      " [ 11.017211   35.277126  304.65427  ]\n",
      " ...\n",
      " [  5.939636   42.258007  125.2795   ]\n",
      " [ 56.025818   17.587452  166.81001  ]\n",
      " [ 43.556873   39.227158  165.08308  ]]\n",
      "sub values after= [[ 163.88712  -139.00957  -108.65772 ]\n",
      " [ 165.55699  -231.1746   -203.69667 ]\n",
      " [ 190.85794  -201.04486  -131.65973 ]\n",
      " ...\n",
      " [  96.10002   -84.89484   -32.766216]\n",
      " [ 132.94244   -73.356     -90.658676]\n",
      " [ 137.75243   -83.837975  -68.43873 ]]\n",
      "Rotating subhaloes...\n",
      "sub values= [[50.77553  48.88186  55.023876]\n",
      " [50.44931  48.85588  55.553745]\n",
      " [50.607765 49.027584 55.013004]\n",
      " ...\n",
      " [48.732445 47.916992 52.205738]\n",
      " [48.26318  47.976006 51.74095 ]\n",
      " [48.303646 48.2168   51.182217]]\n",
      "sub values after= [[88.95537   -5.6515555 -7.0866017]\n",
      " [89.0308    -6.2433004 -7.2654977]\n",
      " [88.93874   -5.783869  -6.90851  ]\n",
      " ...\n",
      " [85.6588    -5.135106  -5.703506 ]\n",
      " [85.16901   -5.1721377 -5.2580237]\n",
      " [85.03953   -4.7948847 -4.796806 ]]\n",
      "Rotating subhaloes...\n",
      "sub values= [[ 0.          0.          0.        ]\n",
      " [-0.33921051 -0.02496338  0.55762863]\n",
      " [-0.18361664  0.14453506  0.01295471]\n",
      " ...\n",
      " [-2.05915451 -0.96647263 -2.79530334]\n",
      " [-2.52787399 -0.90652466 -3.25944138]\n",
      " [-2.48677444 -0.66645432 -3.81832504]]\n",
      "sub values after= [[ 0.          0.          0.        ]\n",
      " [ 0.08323261 -0.6200301  -0.18780747]\n",
      " [-0.01394503 -0.15978297  0.17043538]\n",
      " ...\n",
      " [-3.29480315  0.48953632  1.37569393]\n",
      " [-3.78335585  0.45235905  1.82139556]\n",
      " [-3.91298138  0.83025823  2.2818989 ]]\n",
      "Rotating subhaloes...\n",
      "sub values= [[ 3.49691100e-02  6.30828559e-01  7.54738152e-01]\n",
      " [-1.96101010e-01 -6.18958652e-01 -7.81824589e-02]\n",
      " [ 7.40842298e-02  4.94842976e-03  5.58180809e-02]\n",
      " ...\n",
      " [-2.79948581e-04  1.10596644e-04  4.30779983e-05]\n",
      " [ 1.53497502e-04 -2.85408663e-04  2.06709345e-04]\n",
      " [ 1.34899572e-04  6.59115613e-05 -6.51812225e-05]]\n",
      "sub values after= [[ 8.0603039e-01 -5.5611253e-01  9.9252708e-02]\n",
      " [-5.3185254e-01 -1.8151674e-02 -3.8010702e-01]\n",
      " [ 7.6555751e-02  1.5988154e-02 -5.0121993e-02]\n",
      " ...\n",
      " [-7.5167751e-05 -2.4644597e-04  1.6147050e-04]\n",
      " [ 2.8522672e-05  6.5001855e-06 -3.8326564e-04]\n",
      " [ 8.4547537e-05  1.3467793e-04  3.8786431e-05]]\n",
      "Rotating subhaloes...\n",
      "sub values= [[   3.7192357   -2.00436     -5.622882 ]\n",
      " [  37.422993    59.378624  -106.31616  ]\n",
      " [  -9.502923  -156.80717    -20.652193 ]\n",
      " ...\n",
      " [  36.857674     4.506134   -72.82274  ]\n",
      " [  27.994822    11.637913  -100.84216  ]\n",
      " [  24.674864    11.008003   -96.41495  ]]\n",
      "sub values after= [[-2.0275817e+00  6.7346635e+00  1.3806778e-02]\n",
      " [ 1.0940313e+00  9.1908424e+01  8.8210388e+01]\n",
      " [-1.1149596e+02  2.5320738e+01 -1.0969422e+02]\n",
      " ...\n",
      " [-1.4504641e+01  7.5390137e+01  2.8069328e+01]\n",
      " [-3.0411905e+01  8.6930672e+01  5.1053574e+01]\n",
      " [-3.0381905e+01  8.1600677e+01  4.9438210e+01]]\n",
      "Calculating circularities\n",
      "max time in calc circ: 2 97.70478320121765\n",
      "dty= [ 0.49869185  1.00906321  1.56633716 ... 12.92855276 12.88560407\n",
      " 12.05877964] 17360474\n",
      "glb= [ 0.49869185  1.00906321  1.56633716 ... 12.92855276 12.88560407\n",
      " 12.05877964] 17360474\n",
      "bidsort lists= 17360474 17360474\n",
      " 17360474\n",
      "max in prep time: 0 108.13031697273254\n"
     ]
    }
   ],
   "source": [
    "actual = actual_halo(24,3)\n",
    "# time is 17.0s for snap 127 level 4\n",
    "# time is for snap 63 level 3\n"
   ]
  },
  {
   "cell_type": "code",
   "execution_count": 13,
   "metadata": {},
   "outputs": [
    {
     "data": {
      "text/plain": [
       "array([1.91820928, 2.32316708, 3.2836012 , ..., 2.3569977 , 0.92241274,\n",
       "       2.3027123 ])"
      ]
     },
     "execution_count": 13,
     "metadata": {},
     "output_type": "execute_result"
    }
   ],
   "source": [
    "actual"
   ]
  },
  {
   "attachments": {},
   "cell_type": "markdown",
   "metadata": {},
   "source": [
    "timing\n",
    "level 4, snap 127: 17.0s\n",
    "level 3, snap 63: 3m 28.8s\n",
    "level 4, all snaps: 25m 32.5s"
   ]
  },
  {
   "cell_type": "code",
   "execution_count": 4,
   "metadata": {},
   "outputs": [
    {
     "name": "stdout",
     "output_type": "stream",
     "text": [
      "/cds/kravtsov/Simulations/Auriga/level4_MHD/halo_24/output/\n",
      "hi\n",
      "/cds/kravtsov/Simulations/Auriga/level4_MHD/mergertrees/Au-24/trees_sf1_127\n",
      "There are 1540 trees in file /cds/kravtsov/Simulations/Auriga/level4_MHD/mergertrees/Au-24/trees_sf1_127.0.hdf5\n",
      "Loading desc (Descendant) for blockname /Tree0.\n",
      "Loading fnum (FileNr) for blockname /Tree0.\n",
      "Loading fhfg (FirstHaloInFOFGroup) for blockname /Tree0.\n",
      "Loading fpin (FirstProgenitor) for blockname /Tree0.\n",
      "Loading fmc2 (Group_M_Crit200) for blockname /Tree0.\n",
      "Loading fmm2 (Group_M_Mean200) for blockname /Tree0.\n",
      "Loading fmt2 (Group_M_TopHat200) for blockname /Tree0.\n",
      "Loading frc2 (Group_R_Crit200) for blockname /Tree0.\n",
      "Loading nhfg (NextHaloInFOFGroup) for blockname /Tree0.\n",
      "Loading npin (NextProgenitor) for blockname /Tree0.\n",
      "Loading snum (SnapNum) for blockname /Tree0.\n",
      "Loading sbhm (SubhaloBHMass) for blockname /Tree0.\n",
      "Loading sbhd (SubhaloBHMdot) for blockname /Tree0.\n",
      "Loading sgmt (SubhaloGasMetallicity) for blockname /Tree0.\n",
      "Loading sgmf (SubhaloGasMetallicitySfr) for blockname /Tree0.\n",
      "Loading sgnr (SubhaloGrNr) for blockname /Tree0.\n",
      "Loading shmt (SubhaloHalfmassRadType) for blockname /Tree0.\n",
      "Key SubhaloIDMostBound not found in conversion table, skipping.\n",
      "Loading slen (SubhaloLen) for blockname /Tree0.\n",
      "Loading slty (SubhaloLenType) for blockname /Tree0.\n",
      "Loading smit (SubhaloMassInRadType) for blockname /Tree0.\n",
      "Loading smty (SubhaloMassType) for blockname /Tree0.\n",
      "Loading sbnr (SubhaloNumber) for blockname /Tree0.\n",
      "Loading soty (SubhaloOffsetType) for blockname /Tree0.\n",
      "Loading spos (SubhaloPos) for blockname /Tree0.\n",
      "Loading ssfr (SubhaloSFR) for blockname /Tree0.\n",
      "Loading ssfi (SubhaloSFRinRad) for blockname /Tree0.\n",
      "Loading sspi (SubhaloSpin) for blockname /Tree0.\n",
      "Loading ssmt (SubhaloStarMetallicity) for blockname /Tree0.\n",
      "Loading ssph (SubhaloStellarPhotometrics) for blockname /Tree0.\n",
      "Loading svmx (SubhaloVMax) for blockname /Tree0.\n",
      "Loading svel (SubhaloVel) for blockname /Tree0.\n",
      "Loading svdi (SubhaloVelDisp) for blockname /Tree0.\n"
     ]
    },
    {
     "name": "stderr",
     "output_type": "stream",
     "text": [
      "/home/lgvanover/.local/lib/python3.7/site-packages/gadget_snap.py:653: H5pyDeprecationWarning: Using astype() as a context manager is deprecated. Slice the returned object instead, like: ds.astype(np.int32)[:10]\n",
      "  with dset.astype('uint64'):\n",
      "/home/lgvanover/.local/lib/python3.7/site-packages/gadget_subfind.py:435: H5pyDeprecationWarning: Using astype() as a context manager is deprecated. Slice the returned object instead, like: ds.astype(np.int32)[:10]\n",
      "  with dset.astype('int64'):\n"
     ]
    },
    {
     "name": "stdout",
     "output_type": "stream",
     "text": [
      "galrad= 0.02408556640148163\n",
      "Centering Subhaloes...\n",
      "sub pos before= [[50.79359055 48.93403625 55.03272247]\n",
      " [50.45109558 48.89851379 55.60354996]\n",
      " [50.60640717 49.01777649 55.04764938]\n",
      " ...\n",
      " [48.22639084 46.81706238 52.15441895]\n",
      " [48.37526321 47.7786293  51.83067322]\n",
      " [48.61117172 47.56481171 51.97818375]]\n",
      "sub pos after= [[ 0.          0.          0.        ]\n",
      " [-0.34249496 -0.03552246  0.57082748]\n",
      " [-0.18718338  0.08374023  0.01492691]\n",
      " ...\n",
      " [-2.56719971 -2.11697388 -2.87830353]\n",
      " [-2.41832733 -1.15540695 -3.20204926]\n",
      " [-2.18241882 -1.36922455 -3.05453873]]\n",
      "!!! agesel\n",
      "Found 857 stars.\n",
      "Rotated pos.\n",
      "Rotated vel.\n",
      "Rotating subhaloes...\n",
      "sub values= [[50.71966  48.92697  55.15064 ]\n",
      " [50.846367 49.66736  58.297184]\n",
      " [51.7898   49.28032  58.271164]\n",
      " ...\n",
      " [48.226307 46.81643  52.155113]\n",
      " [48.37558  47.778194 51.83086 ]\n",
      " [48.609806 47.567024 51.978252]]\n",
      "sub values after= [[ 88.86868    -8.764387   -5.785168 ]\n",
      " [ 91.01539   -10.761217   -7.1523986]\n",
      " [ 91.37628    -9.929051   -7.619079 ]\n",
      " ...\n",
      " [ 84.520325   -8.246437   -5.101161 ]\n",
      " [ 84.996346   -8.2115755  -4.1930842]\n",
      " [ 85.100334   -8.064606   -4.491021 ]]\n",
      "Rotating subhaloes...\n",
      "sub values= [[50.79359  48.934036 55.032722]\n",
      " [50.841927 49.668617 58.297276]\n",
      " [51.788948 49.27594  58.271435]\n",
      " ...\n",
      " [48.22639  46.817062 52.15442 ]\n",
      " [48.375263 47.77863  51.830673]\n",
      " [48.61117  47.56481  51.978184]]\n",
      "sub values after= [[ 88.857895   -8.64037    -5.7225356]\n",
      " [ 91.01334   -10.764956   -7.150615 ]\n",
      " [ 91.373375   -9.928617   -7.6224484]\n",
      " ...\n",
      " [ 84.52038    -8.246139   -5.100268 ]\n",
      " [ 84.99629    -8.2118225  -4.192574 ]\n",
      " [ 85.09989    -8.062915   -4.4929495]]\n",
      "Rotating subhaloes...\n",
      "sub values= [[ 28.255926  30.835302 240.93712 ]\n",
      " [ -4.937017 -54.343723 364.94104 ]\n",
      " [  9.05532   34.47767  316.8458  ]\n",
      " ...\n",
      " [ 44.328323  10.682493 183.22571 ]\n",
      " [ 53.827957  34.665432 168.97084 ]\n",
      " [ 50.03962   30.140202 182.48167 ]]\n",
      "sub values after= [[ 161.28966  -131.69789  -128.22333 ]\n",
      " [ 156.2486   -206.78934  -262.6483  ]\n",
      " [ 190.86687  -192.55258  -167.79543 ]\n",
      " ...\n",
      " [ 129.77652   -79.42511  -111.80557 ]\n",
      " [ 142.07742   -70.531235  -86.5427  ]\n",
      " [ 144.14377   -80.18227   -97.49531 ]]\n",
      "Rotating subhaloes...\n",
      "sub values= [[50.78019  48.932426 55.054436]\n",
      " [50.449963 48.89636  55.604046]\n",
      " [50.606674 49.017616 55.04735 ]\n",
      " ...\n",
      " [48.226166 46.8166   52.154915]\n",
      " [48.37568  47.778263 51.830788]\n",
      " [48.609745 47.567005 51.97842 ]]\n",
      "sub values after= [[88.85984   -8.662963  -5.734347 ]\n",
      " [88.91739   -9.22936   -6.0315084]\n",
      " [88.795296  -8.81286   -5.6305237]\n",
      " ...\n",
      " [84.520226  -8.246473  -5.10088  ]\n",
      " [84.99641   -8.211475  -4.193006 ]\n",
      " [85.10037   -8.064747  -4.491125 ]]\n",
      "Rotating subhaloes...\n",
      "sub values= [[ 0.          0.          0.        ]\n",
      " [-0.34249496 -0.03552246  0.57082748]\n",
      " [-0.18718338  0.08374023  0.01492691]\n",
      " ...\n",
      " [-2.56719971 -2.11697388 -2.87830353]\n",
      " [-2.41832733 -1.15540695 -3.20204926]\n",
      " [-2.18241882 -1.36922455 -3.05453873]]\n",
      "sub values after= [[ 0.          0.          0.        ]\n",
      " [ 0.06118542 -0.58844872 -0.30723463]\n",
      " [-0.06252676 -0.17291032  0.09200698]\n",
      " ...\n",
      " [-4.33752072  0.39423367  0.62226824]\n",
      " [-3.86160006  0.42854897  1.52996159]\n",
      " [-3.75800454  0.57745452  1.22958641]]\n",
      "Rotating subhaloes...\n",
      "sub values= [[ 1.0386607e-01  5.7208824e-01  8.7625426e-01]\n",
      " [-2.2724979e-01 -5.8865881e-01 -5.3506397e-02]\n",
      " [ 6.4926147e-02  2.5097264e-02  5.5062972e-02]\n",
      " ...\n",
      " [ 1.5899616e-03  7.1374011e-06  1.4904144e-06]\n",
      " [-4.9034825e-06 -1.9416306e-04 -1.3891087e-04]\n",
      " [ 1.0634196e-03  5.0173217e-04 -3.3766063e-04]]\n",
      "sub values after= [[ 8.50765824e-01 -6.07803345e-01 -1.12548724e-01]\n",
      " [-5.08754969e-01  2.75568012e-02 -3.76076579e-01]\n",
      " [ 8.41496959e-02  8.65946710e-03 -2.68523786e-02]\n",
      " ...\n",
      " [ 1.00963423e-03  1.18941441e-03 -3.06534086e-04]\n",
      " [-1.86837322e-04  1.34194182e-04 -6.40570361e-05]\n",
      " [ 7.83182157e-04  8.58098734e-04  3.83279839e-04]]\n",
      "Rotating subhaloes...\n",
      "sub values= [[   4.925902    -4.0962114   -5.1128716]\n",
      " [  37.41776     53.874016  -102.82924  ]\n",
      " [  24.587318  -173.69908    -22.712755 ]\n",
      " ...\n",
      " [  26.430832   -19.929132   -79.297714 ]\n",
      " [  36.5257       3.8731315  -93.55162  ]\n",
      " [  32.867767    -0.7577392  -80.07527  ]]\n",
      "sub values after= [[  -1.902556      7.90864      -1.009264  ]\n",
      " [   0.83092964   74.41245      96.63564   ]\n",
      " [ -95.8224       80.999016   -124.69565   ]\n",
      " ...\n",
      " [ -36.107124     72.89636      27.681803  ]\n",
      " [ -23.533068     82.286964     52.688553  ]\n",
      " [ -21.462824     72.78414      41.650085  ]]\n"
     ]
    }
   ],
   "source": [
    "# g = load_halo(24, 4)\n",
    "\n",
    "# istars, = np.where( (g.s.data['type'] == 4) & (g.s.data['age'] > 0) & (g.s.r() < g.radialcut) )\n",
    "\n",
    "# nstars = size(istars)\n",
    "# eps2  = pylab.zeros( nstars )\n",
    "# jcmax = pylab.zeros( nstars )\n",
    "# spec_energy = pylab.zeros( nstars )\n",
    "# pos = g.s.data['pos']\n",
    "# vel = g.s.data['vel']\n",
    "# pot = g.s.data['pot']\n",
    "# j  = pylab.cross( pos[istars,:], vel[istars,:] )\n",
    "# jz = j[:,0]\n",
    "\n",
    "# # Spec energy is E\n",
    "# E = 0.5 * (vel[istars,:]**2).sum(axis=1) + pot[istars]\n",
    "# E = E/1e5\n",
    "\n",
    "# isort = np.argsort(E)\n",
    "# jz_sorted = jz[isort]\n",
    "# E_sorted = E[isort]\n",
    "\n",
    "# nslices = 10\n",
    "# deltaE = (max(E) - min(E))/nslices\n",
    "# Emin = min(E)\n",
    "\n",
    "# E_est=[]\n",
    "# jz_est=[]\n",
    "# split_index = []\n",
    "\n",
    "# imin = np.where(E_sorted == Emin)\n",
    "# E_est.append(E_sorted[imin])\n",
    "# jz_est.append(jz_sorted[imin])\n",
    "# split_index.append(imin[0][0])\n",
    "\n",
    "# for i in range(nslices):\n",
    "    \n",
    "#     iselect = np.where((E_sorted > Emin+i*deltaE) & (E_sorted < Emin+(i+1)*deltaE))\n",
    "#     max_jz = max(jz_sorted[iselect])\n",
    "#     imax = np.where(jz_sorted==max_jz)\n",
    "#     split_index.append(imax[0][0])\n",
    "#     E_est.append(E_sorted[imax])\n",
    "#     jz_est.append(jz_sorted[imax])\n",
    "\n",
    "# Emax = max(E)\n",
    "# imax_final = np.where(E_sorted == Emax)\n",
    "# E_est.append(E_sorted[imax_final])\n",
    "# jz_est.append(jz_sorted[imax_final])\n",
    "# split_index.append(imax_final[0][0])\n",
    "\n",
    "# npart =len(E)\n",
    "# slope_E = []\n",
    "# y_int = []\n",
    "\n",
    "# for i, _ in enumerate(E_est):\n",
    "#     if i == 0:\n",
    "#         continue\n",
    "#     slope = (E_est[i]-E_est[i-1])/(jz_est[i]-jz_est[i-1])\n",
    "#     yint = E_est[i] - slope*jz_est[i]\n",
    "#     slope_E.append(slope[0])\n",
    "#     y_int.append(yint[0])\n",
    "\n",
    "# i_slice = 0\n",
    "# jz_max = []\n",
    "# epsilon = []\n",
    "# jz_max = np.zeros_like(E_sorted)\n",
    "# for i in range(len(split_index[0:-1])):\n",
    "\n",
    "#     slice_slope = slope_E[i]\n",
    "#     slice_intercept = y_int[i]\n",
    "\n",
    "#     jz_max[split_index[i]:split_index[i+1]] = (E_sorted[split_index[i]:split_index[i+1]] - slice_intercept) / slice_slope\n",
    "\n",
    "# jz_max[-1] = (E_sorted[split_index[11]] - slice_intercept) / slice_slope\n",
    "\n",
    "# epsilon = jz_sorted / jz_max\n",
    "# time is 6.4\n"
   ]
  },
  {
   "cell_type": "code",
   "execution_count": 21,
   "metadata": {},
   "outputs": [
    {
     "name": "stdout",
     "output_type": "stream",
     "text": [
      "/project2/kravtsov/Auriga/level3_MHD/halo_24/output/\n",
      "hi\n",
      "/project2/kravtsov/Auriga/level3_MHD/mergertrees/Au-24/trees_sf1_063\n",
      "There are 2446 trees in file /project2/kravtsov/Auriga/level3_MHD/mergertrees/Au-24/trees_sf1_063.0.hdf5\n",
      "Loading desc (Descendant) for blockname /Tree0.\n",
      "Loading fnum (FileNr) for blockname /Tree0.\n",
      "Loading fhfg (FirstHaloInFOFGroup) for blockname /Tree0.\n",
      "Loading fpin (FirstProgenitor) for blockname /Tree0.\n",
      "Loading fmc2 (Group_M_Crit200) for blockname /Tree0.\n",
      "Loading fmm2 (Group_M_Mean200) for blockname /Tree0.\n",
      "Loading fmt2 (Group_M_TopHat200) for blockname /Tree0.\n",
      "Loading frc2 (Group_R_Crit200) for blockname /Tree0.\n",
      "Loading nhfg (NextHaloInFOFGroup) for blockname /Tree0.\n",
      "Loading npin (NextProgenitor) for blockname /Tree0.\n",
      "Loading snum (SnapNum) for blockname /Tree0.\n",
      "Loading sbhm (SubhaloBHMass) for blockname /Tree0.\n",
      "Loading sbhd (SubhaloBHMdot) for blockname /Tree0.\n",
      "Loading sgmt (SubhaloGasMetallicity) for blockname /Tree0.\n",
      "Loading sgmf (SubhaloGasMetallicitySfr) for blockname /Tree0.\n",
      "Loading sgnr (SubhaloGrNr) for blockname /Tree0.\n",
      "Loading shmt (SubhaloHalfmassRadType) for blockname /Tree0.\n",
      "Key SubhaloIDMostBound not found in conversion table, skipping.\n",
      "Loading slen (SubhaloLen) for blockname /Tree0.\n",
      "Loading slty (SubhaloLenType) for blockname /Tree0.\n",
      "Loading smit (SubhaloMassInRadType) for blockname /Tree0.\n",
      "Loading smty (SubhaloMassType) for blockname /Tree0.\n",
      "Loading sbnr (SubhaloNumber) for blockname /Tree0.\n",
      "Loading soty (SubhaloOffsetType) for blockname /Tree0.\n",
      "Loading spos (SubhaloPos) for blockname /Tree0.\n",
      "Loading ssfr (SubhaloSFR) for blockname /Tree0.\n",
      "Loading ssfi (SubhaloSFRinRad) for blockname /Tree0.\n",
      "Loading sspi (SubhaloSpin) for blockname /Tree0.\n",
      "Loading ssmt (SubhaloStarMetallicity) for blockname /Tree0.\n",
      "Loading ssph (SubhaloStellarPhotometrics) for blockname /Tree0.\n",
      "Loading svmx (SubhaloVMax) for blockname /Tree0.\n",
      "Loading svel (SubhaloVel) for blockname /Tree0.\n",
      "Loading svdi (SubhaloVelDisp) for blockname /Tree0.\n"
     ]
    },
    {
     "name": "stderr",
     "output_type": "stream",
     "text": [
      "/home/lgvanover/.local/lib/python3.7/site-packages/gadget_snap.py:653: H5pyDeprecationWarning: Using astype() as a context manager is deprecated. Slice the returned object instead, like: ds.astype(np.int32)[:10]\n",
      "  with dset.astype('uint64'):\n",
      "/home/lgvanover/.local/lib/python3.7/site-packages/gadget_subfind.py:435: H5pyDeprecationWarning: Using astype() as a context manager is deprecated. Slice the returned object instead, like: ds.astype(np.int32)[:10]\n",
      "  with dset.astype('int64'):\n"
     ]
    },
    {
     "name": "stdout",
     "output_type": "stream",
     "text": [
      "galrad= 0.023956823348999026\n",
      "Centering Subhaloes...\n",
      "sub pos before= [[50.7911377  48.88329697 55.00044632]\n",
      " [50.45192719 48.85833359 55.55807495]\n",
      " [50.60752106 49.02783203 55.01340103]\n",
      " ...\n",
      " [48.73198318 47.91682434 52.20514297]\n",
      " [48.2632637  47.97677231 51.74100494]\n",
      " [48.30436325 48.21684265 51.18212128]]\n",
      "sub pos after= [[ 0.          0.          0.        ]\n",
      " [-0.33921051 -0.02496338  0.55762863]\n",
      " [-0.18361664  0.14453506  0.01295471]\n",
      " ...\n",
      " [-2.05915451 -0.96647263 -2.79530334]\n",
      " [-2.52787399 -0.90652466 -3.25944138]\n",
      " [-2.48677444 -0.66645432 -3.81832504]]\n",
      "!!! agesel\n",
      "Found 5064 stars.\n",
      "Rotated pos.\n",
      "Rotated vel.\n",
      "Rotating subhaloes...\n",
      "sub values= [[50.688057 48.882477 55.149303]\n",
      " [50.871426 49.644836 58.1277  ]\n",
      " [51.757504 49.243988 58.0621  ]\n",
      " ...\n",
      " [48.50052  47.848724 52.13737 ]\n",
      " [48.186646 47.14503  51.88894 ]\n",
      " [48.303635 48.216793 51.182114]]\n",
      "sub values after= [[88.97127   -5.799915  -7.12009  ]\n",
      " [91.13428   -7.7590237 -8.104431 ]\n",
      " [91.37933   -7.0206337 -8.691665 ]\n",
      " ...\n",
      " [85.44414   -5.2505436 -5.6425195]\n",
      " [84.70047   -5.230265  -5.9618464]\n",
      " [85.03946   -4.7948227 -4.7967553]]\n",
      "Rotating subhaloes...\n",
      "sub values= [[50.791138 48.883297 55.000446]\n",
      " [50.87303  49.64379  58.128334]\n",
      " [51.754887 49.246628 58.06271 ]\n",
      " ...\n",
      " [48.50052  47.848724 52.13737 ]\n",
      " [48.186646 47.14503  51.88894 ]\n",
      " [48.304363 48.216843 51.18212 ]]\n",
      "sub values after= [[88.9529    -5.6245623 -7.0788693]\n",
      " [91.13493   -7.758157  -8.1061325]\n",
      " [91.379715  -7.0232644 -8.688997 ]\n",
      " ...\n",
      " [85.44414   -5.2505436 -5.6425195]\n",
      " [84.70047   -5.230265  -5.9618464]\n",
      " [85.039925  -4.7943034 -4.796971 ]]\n",
      "Rotating subhaloes...\n",
      "sub values= [[ 32.51071    29.816359  236.73442  ]\n",
      " [ -1.1191223 -33.2394    348.1911   ]\n",
      " [ 11.017211   35.277126  304.65427  ]\n",
      " ...\n",
      " [  5.939636   42.258007  125.2795   ]\n",
      " [ 56.025818   17.587452  166.81001  ]\n",
      " [ 43.556873   39.227158  165.08308  ]]\n",
      "sub values after= [[ 163.88712  -139.00957  -108.65772 ]\n",
      " [ 165.55699  -231.1746   -203.69667 ]\n",
      " [ 190.85794  -201.04486  -131.65973 ]\n",
      " ...\n",
      " [  96.10002   -84.89484   -32.766216]\n",
      " [ 132.94244   -73.356     -90.658676]\n",
      " [ 137.75243   -83.837975  -68.43873 ]]\n",
      "Rotating subhaloes...\n",
      "sub values= [[50.77553  48.88186  55.023876]\n",
      " [50.44931  48.85588  55.553745]\n",
      " [50.607765 49.027584 55.013004]\n",
      " ...\n",
      " [48.732445 47.916992 52.205738]\n",
      " [48.26318  47.976006 51.74095 ]\n",
      " [48.303646 48.2168   51.182217]]\n",
      "sub values after= [[88.95537   -5.6515555 -7.0866017]\n",
      " [89.0308    -6.2433004 -7.2654977]\n",
      " [88.93874   -5.783869  -6.90851  ]\n",
      " ...\n",
      " [85.6588    -5.135106  -5.703506 ]\n",
      " [85.16901   -5.1721377 -5.2580237]\n",
      " [85.03953   -4.7948847 -4.796806 ]]\n",
      "Rotating subhaloes...\n",
      "sub values= [[ 0.          0.          0.        ]\n",
      " [-0.33921051 -0.02496338  0.55762863]\n",
      " [-0.18361664  0.14453506  0.01295471]\n",
      " ...\n",
      " [-2.05915451 -0.96647263 -2.79530334]\n",
      " [-2.52787399 -0.90652466 -3.25944138]\n",
      " [-2.48677444 -0.66645432 -3.81832504]]\n",
      "sub values after= [[ 0.          0.          0.        ]\n",
      " [ 0.08323261 -0.6200301  -0.18780747]\n",
      " [-0.01394503 -0.15978297  0.17043538]\n",
      " ...\n",
      " [-3.29480315  0.48953632  1.37569393]\n",
      " [-3.78335585  0.45235905  1.82139556]\n",
      " [-3.91298138  0.83025823  2.2818989 ]]\n",
      "Rotating subhaloes...\n",
      "sub values= [[ 3.49691100e-02  6.30828559e-01  7.54738152e-01]\n",
      " [-1.96101010e-01 -6.18958652e-01 -7.81824589e-02]\n",
      " [ 7.40842298e-02  4.94842976e-03  5.58180809e-02]\n",
      " ...\n",
      " [-2.79948581e-04  1.10596644e-04  4.30779983e-05]\n",
      " [ 1.53497502e-04 -2.85408663e-04  2.06709345e-04]\n",
      " [ 1.34899572e-04  6.59115613e-05 -6.51812225e-05]]\n",
      "sub values after= [[ 8.0603039e-01 -5.5611253e-01  9.9252708e-02]\n",
      " [-5.3185254e-01 -1.8151674e-02 -3.8010702e-01]\n",
      " [ 7.6555751e-02  1.5988154e-02 -5.0121993e-02]\n",
      " ...\n",
      " [-7.5167751e-05 -2.4644597e-04  1.6147050e-04]\n",
      " [ 2.8522672e-05  6.5001855e-06 -3.8326564e-04]\n",
      " [ 8.4547537e-05  1.3467793e-04  3.8786431e-05]]\n",
      "Rotating subhaloes...\n",
      "sub values= [[   3.7192357   -2.00436     -5.622882 ]\n",
      " [  37.422993    59.378624  -106.31616  ]\n",
      " [  -9.502923  -156.80717    -20.652193 ]\n",
      " ...\n",
      " [  36.857674     4.506134   -72.82274  ]\n",
      " [  27.994822    11.637913  -100.84216  ]\n",
      " [  24.674864    11.008003   -96.41495  ]]\n",
      "sub values after= [[-2.0275817e+00  6.7346635e+00  1.3806778e-02]\n",
      " [ 1.0940313e+00  9.1908424e+01  8.8210388e+01]\n",
      " [-1.1149596e+02  2.5320738e+01 -1.0969422e+02]\n",
      " ...\n",
      " [-1.4504641e+01  7.5390137e+01  2.8069328e+01]\n",
      " [-3.0411905e+01  8.6930672e+01  5.1053574e+01]\n",
      " [-3.0381905e+01  8.1600677e+01  4.9438210e+01]]\n",
      "[array([0.00191989, 0.00248079, 0.00291863, ..., 0.07009483, 0.07009488,\n",
      "        0.07009492], dtype=float32)\n",
      " array([0.07009501, 0.07009517, 0.07009537, ..., 0.14922357, 0.14922357,\n",
      "        0.14922357], dtype=float32)\n",
      " array([0.14922363, 0.14922363, 0.14922363, ..., 0.24016029, 0.24016052,\n",
      "        0.24016052], dtype=float32)\n",
      " array([0.24016066, 0.24016093, 0.24016102, ..., 0.38046065, 0.38046083,\n",
      "        0.38046083], dtype=float32)\n",
      " array([0.38046083, 0.38046083, 0.3804611 , ..., 0.76953137, 0.76953167,\n",
      "        0.7695319 ], dtype=float32)\n",
      " array([0.76953214, 0.7695334 , 0.7695334 , ..., 1.7445562 , 1.7445562 ,\n",
      "        1.7445562 ], dtype=float32)\n",
      " array([1.7445567, 1.7445567, 1.7445593, ..., 3.7343178, 3.7343178,\n",
      "        3.734319 ], dtype=float32)\n",
      " array([3.7343187, 3.7343187, 3.7343187, ..., 6.9261003, 6.9261026,\n",
      "        6.9261045], dtype=float32)\n",
      " array([6.9261274, 6.9261274, 6.9261374, ..., 9.324247 , 9.324361 ,\n",
      "        9.3246355], dtype=float32)\n",
      " array([9.324993 , 9.324996 , 9.325002 , ..., 9.559044 , 9.5612335,\n",
      "        9.56193  ], dtype=float32)\n",
      " array([9.562075 , 9.470377 , 9.305645 , 9.290506 , 9.132389 , 9.111971 ,\n",
      "        9.063983 , 9.009542 , 8.994925 , 8.987767 , 8.985324 , 8.971939 ,\n",
      "        8.96561  , 8.963122 , 8.962867 , 8.938255 , 8.935579 , 8.90653  ,\n",
      "        8.9044075, 8.884642 , 8.882119 , 8.860534 , 8.857339 , 8.820563 ,\n",
      "        8.807069 , 8.795244 , 8.789309 , 8.756012 , 8.722124 , 8.712392 ,\n",
      "        8.6532545, 8.6048155, 8.567424 , 8.537711 , 8.475846 , 8.369275 ,\n",
      "        8.316259 , 8.295072 , 8.293952 , 8.27517  , 8.22388  , 8.213401 ,\n",
      "        8.148199 , 8.143991 , 8.141957 , 3.9823525, 3.9674978, 3.9550717,\n",
      "        3.9478667, 3.9077878, 3.6981285, 3.5645466, 3.552394 , 3.5309615,\n",
      "        3.487769 , 3.4203727, 3.2212653, 3.2117233, 3.124211 , 3.0566216,\n",
      "        2.6856766, 2.5795872, 2.5398183, 1.5682403, 1.4800498],\n",
      "       dtype=float32)\n",
      " -0.8091961796347286]\n",
      "12\n"
     ]
    },
    {
     "name": "stderr",
     "output_type": "stream",
     "text": [
      "/software/python-anaconda-2020.02-el7-x86_64/lib/python3.7/site-packages/ipykernel_launcher.py:88: VisibleDeprecationWarning: Creating an ndarray from ragged nested sequences (which is a list-or-tuple of lists-or-tuples-or ndarrays with different lengths or shapes) is deprecated. If you meant to do this, you must specify 'dtype=object' when creating the ndarray.\n"
     ]
    },
    {
     "ename": "ValueError",
     "evalue": "all the input arrays must have same number of dimensions, but the array at index 0 has 1 dimension(s) and the array at index 11 has 0 dimension(s)",
     "output_type": "error",
     "traceback": [
      "\u001b[0;31m---------------------------------------------------------------------------\u001b[0m",
      "\u001b[0;31mValueError\u001b[0m                                Traceback (most recent call last)",
      "\u001b[0;32m<ipython-input-21-ce75a61e0ba6>\u001b[0m in \u001b[0;36m<module>\u001b[0;34m()\u001b[0m\n\u001b[1;32m     92\u001b[0m \u001b[0;34m\u001b[0m\u001b[0m\n\u001b[1;32m     93\u001b[0m \u001b[0mprint\u001b[0m\u001b[0;34m(\u001b[0m\u001b[0mresults\u001b[0m\u001b[0;34m.\u001b[0m\u001b[0msize\u001b[0m\u001b[0;34m)\u001b[0m\u001b[0;34m\u001b[0m\u001b[0;34m\u001b[0m\u001b[0m\n\u001b[0;32m---> 94\u001b[0;31m \u001b[0mresults\u001b[0m \u001b[0;34m=\u001b[0m \u001b[0mnp\u001b[0m\u001b[0;34m.\u001b[0m\u001b[0mconcatenate\u001b[0m\u001b[0;34m(\u001b[0m\u001b[0mresults\u001b[0m\u001b[0;34m)\u001b[0m\u001b[0;34m.\u001b[0m\u001b[0mravel\u001b[0m\u001b[0;34m(\u001b[0m\u001b[0;34m)\u001b[0m\u001b[0;34m\u001b[0m\u001b[0;34m\u001b[0m\u001b[0m\n\u001b[0m\u001b[1;32m     95\u001b[0m \u001b[0;34m\u001b[0m\u001b[0m\n\u001b[1;32m     96\u001b[0m \u001b[0;34m\u001b[0m\u001b[0m\n",
      "\u001b[0;32m<__array_function__ internals>\u001b[0m in \u001b[0;36mconcatenate\u001b[0;34m(*args, **kwargs)\u001b[0m\n",
      "\u001b[0;31mValueError\u001b[0m: all the input arrays must have same number of dimensions, but the array at index 0 has 1 dimension(s) and the array at index 11 has 0 dimension(s)"
     ]
    }
   ],
   "source": [
    "g = load_halo(24, 3)\n",
    "\n",
    "istars, = np.where( (g.s.data['type'] == 4) & (g.s.data['age'] > 0) & (g.s.r() < g.radialcut) )\n",
    "\n",
    "nstars = size(istars)\n",
    "eps2  = pylab.zeros( nstars )\n",
    "jcmax = pylab.zeros( nstars )\n",
    "spec_energy = pylab.zeros( nstars )\n",
    "pos = g.s.data['pos']\n",
    "vel = g.s.data['vel']\n",
    "pot = g.s.data['pot']\n",
    "j  = pylab.cross( pos[istars,:], vel[istars,:] )\n",
    "jz = j[:,0]\n",
    "\n",
    "# Spec energy is E\n",
    "E = 0.5 * (vel[istars,:]**2).sum(axis=1) + pot[istars]\n",
    "E = E/1e5\n",
    "\n",
    "isort = np.argsort(E)\n",
    "jz_sorted = jz[isort]\n",
    "E_sorted = E[isort]\n",
    "\n",
    "nslices = 10\n",
    "deltaE = (max(E) - min(E))/nslices\n",
    "Emin = min(E)\n",
    "\n",
    "E_est=[]\n",
    "jz_est=[]\n",
    "split_index = []\n",
    "\n",
    "imin = np.where(E_sorted == Emin)\n",
    "E_est.append(E_sorted[imin])\n",
    "jz_est.append(jz_sorted[imin])\n",
    "split_index.append(imin[0][0])\n",
    "\n",
    "for i in range(nslices):\n",
    "    \n",
    "    iselect = np.where((E_sorted > Emin+i*deltaE) & (E_sorted < Emin+(i+1)*deltaE))\n",
    "    max_jz = max(jz_sorted[iselect])\n",
    "    imax = np.where(jz_sorted==max_jz)\n",
    "    split_index.append(imax[0][0])\n",
    "    E_est.append(E_sorted[imax])\n",
    "    jz_est.append(jz_sorted[imax])\n",
    "\n",
    "Emax = max(E)\n",
    "imax_final = np.where(E_sorted == Emax)\n",
    "E_est.append(E_sorted[imax_final])\n",
    "jz_est.append(jz_sorted[imax_final])\n",
    "split_index.append(imax_final[0][0])\n",
    "\n",
    "npart =len(E)\n",
    "slope_E = []\n",
    "y_int = []\n",
    "\n",
    "for i, _ in enumerate(E_est):\n",
    "    if i == 0:\n",
    "        continue\n",
    "    slope = (E_est[i]-E_est[i-1])/(jz_est[i]-jz_est[i-1])\n",
    "    yint = E_est[i] - slope*jz_est[i]\n",
    "    slope_E.append(slope[0])\n",
    "    y_int.append(yint[0])\n",
    "\n",
    "i_slice = 0\n",
    "jz_max = []\n",
    "epsilon = []\n",
    "jz_max = np.zeros_like(E_sorted)\n",
    "# for i in range(len(split_index[0:-1])):\n",
    "\n",
    "#     slice_slope = slope_E[i]\n",
    "#     slice_intercept = y_int[i]\n",
    "\n",
    "#     jz_max[split_index[i]:split_index[i+1]] = (E_sorted[split_index[i]:split_index[i+1]] - slice_intercept) / slice_slope\n",
    "\n",
    "# jz_max[-1] = (E_sorted[split_index[11]] - slice_intercept) / slice_slope\n",
    "\n",
    "from parallel_decorators import vectorize_parallel\n",
    "\n",
    "@vectorize_parallel(method='processes', num_procs=11)\n",
    "def slice_normalization(i, esorted, slope, intercept):\n",
    "\n",
    "    slice_slope = slope[i]\n",
    "    slice_intercept = intercept[i]\n",
    "\n",
    "    jz_max = (esorted[split_index[i]:split_index[i+1]] - slice_intercept) / slice_slope\n",
    "    return jz_max \n",
    "\n",
    "\n",
    "results = array(slice_normalization(arange(len(split_index[0:-1])), E_sorted, slope_E, y_int))\n",
    "results[-1] = np.append(results[-1], np.array((E_sorted[split_index[-1]] - y_int[-1]) / slope[-1]))\n",
    "\n",
    "\n",
    "print(results.size)\n",
    "results = np.concatenate(results).ravel()\n",
    "\n",
    "\n",
    "epsilon = jz_sorted / results\n",
    "# time is 6.4 for snap 127 level 4\n"
   ]
  },
  {
   "cell_type": "code",
   "execution_count": 20,
   "metadata": {},
   "outputs": [
    {
     "data": {
      "text/plain": [
       "17360473"
      ]
     },
     "execution_count": 20,
     "metadata": {},
     "output_type": "execute_result"
    }
   ],
   "source": [
    "# results = results.tolist()\n",
    "result = np.concatenate(results).ravel()\n",
    "len(result)"
   ]
  },
  {
   "attachments": {},
   "cell_type": "markdown",
   "metadata": {},
   "source": [
    "timing \\\n",
    "level 4, snap 127: 6.4s \\\n",
    "level 3, snap 63: 53.3s \\\n",
    "level 4, all snaps: 8m 33.7s \\\n",
    "level 4, all snaps, no threading: 9m 31.3s"
   ]
  },
  {
   "cell_type": "code",
   "execution_count": 8,
   "metadata": {},
   "outputs": [
    {
     "name": "stdout",
     "output_type": "stream",
     "text": [
      "previously calculated median circ: 0.4644132592213487\n",
      "new estimated median circ: 0.6005730509922866\n"
     ]
    }
   ],
   "source": [
    "print('previously calculated median circ:', median(actual))\n",
    "print('new estimated median circ:', median(epsilon))"
   ]
  },
  {
   "cell_type": "code",
   "execution_count": 9,
   "metadata": {},
   "outputs": [
    {
     "data": {
      "text/plain": [
       "1.0982327335749655"
      ]
     },
     "execution_count": 9,
     "metadata": {},
     "output_type": "execute_result"
    }
   ],
   "source": [
    "mean(abs(epsilon - actual))"
   ]
  },
  {
   "cell_type": "code",
   "execution_count": null,
   "metadata": {},
   "outputs": [],
   "source": [
    "\n",
    "E_final_est = []\n",
    "jz_final_est = []\n",
    "\n",
    "for ipart in range(npart):\n",
    "    # print(E[ipart])\n",
    "    for i, _ in enumerate(E_est):\n",
    "        if i == 0:\n",
    "            continue\n",
    "        # print(E_est[i])\n",
    "        if E_est[i-1] < E[ipart] <= E_est[i]:\n",
    "            # print(E[ipart])\n",
    "            y_val = E[ipart]\n",
    "            x_val = (y_val - y_int[i-1]) / slope_E[i-1]\n",
    "            # print(x_val, y_val)\n",
    "            jz_final_est.append(x_val)\n",
    "            E_final_est.append(y_val)\n",
    "            plt.plot(x_val, y_val, '.',ms=1,alpha=0.6)\n",
    "            # eps_final_est.append(slope_E[i])\n",
    "\n",
    "# print(E_final_est)\n",
    "# print(jz_final_est)\n",
    "\n"
   ]
  },
  {
   "cell_type": "code",
   "execution_count": null,
   "metadata": {},
   "outputs": [],
   "source": [
    "print(E_est[1], E[0])"
   ]
  },
  {
   "cell_type": "code",
   "execution_count": null,
   "metadata": {},
   "outputs": [],
   "source": [
    "ii = np.argsort(spec_energy)\n",
    "npm = 50\n",
    "# rewritten complicated part\n",
    "for i in range(size(ii)):\n",
    "    if i > size(ii)-npm: \n",
    "            np.max(eps2[i-npm:])\n",
    "    elif i < npm:\n",
    "            np.max(eps2[:i+npm])\n",
    "    else: \n",
    "        np.max(eps2[i-npm:i+npm])"
   ]
  },
  {
   "cell_type": "code",
   "execution_count": null,
   "metadata": {},
   "outputs": [],
   "source": []
  }
 ],
 "metadata": {
  "kernelspec": {
   "display_name": "base",
   "language": "python",
   "name": "python3"
  },
  "language_info": {
   "codemirror_mode": {
    "name": "ipython",
    "version": 3
   },
   "file_extension": ".py",
   "mimetype": "text/x-python",
   "name": "python",
   "nbconvert_exporter": "python",
   "pygments_lexer": "ipython3",
   "version": "3.7.6"
  },
  "orig_nbformat": 4,
  "vscode": {
   "interpreter": {
    "hash": "c6ddf5cceb8d86fc7bb11e39d1fca077fb3cd7a3464da9d951179fad651003f0"
   }
  }
 },
 "nbformat": 4,
 "nbformat_minor": 2
}
